{
 "cells": [
  {
   "cell_type": "code",
   "execution_count": 56,
   "metadata": {},
   "outputs": [],
   "source": [
    "import pickle\n",
    "import getpass\n",
    "import nibabel as nib\n",
    "import numpy as np\n",
    "user = getpass.getuser()"
   ]
  },
  {
   "cell_type": "code",
   "execution_count": 57,
   "metadata": {},
   "outputs": [],
   "source": [
    "def correct_paths(paths):\n",
    "    corrected_paths = []\n",
    "    for path in paths:\n",
    "        corrected_path = \"/home/ORUNET/\" + user + \"/2303_Chalmers/Data/BWT\" + path[path.find(\"/Data/\") + 5:]\n",
    "        corrected_path = corrected_path.replace(\"TestingSubset\", \"Preprocessed\")\n",
    "        corrected_path = corrected_path[:-14] + \"/\" + corrected_path[-13:]\n",
    "        corrected_paths.append(corrected_path)\n",
    "\n",
    "    return corrected_paths\n",
    "\n",
    "def order_to_nifti(pickle_path):\n",
    "    save = pickle.load(open(pickle_path, 'rb'))\n",
    "    sort_alg = save['sort_alg']\n",
    "    results = sort_alg.get_result()\n",
    "    paths = correct_paths(results)\n",
    "    \n",
    "    example = nib.load(paths[0])\n",
    "    example_shape = example.get_fdata().shape\n",
    "\n",
    "    print(example_shape[0], example_shape[1])\n",
    "    output_nifti_data = np.empty((example_shape[0], example_shape[1], len(paths)))\n",
    "    for i, path in enumerate(paths):\n",
    "        data = nib.load(path)\n",
    "        output_nifti_data[:,:,i] = data.get_fdata()[:,:,0]\n",
    "    output_nifti = nib.Nifti1Image(output_nifti_data, affine=example.affine)\n",
    "    nib.save(output_nifti, \"/home/ORUNET/\" + user + \"/2303_Chalmers/Mailbox/Till_Mats/order_chunk_new\")\n",
    "\n"
   ]
  },
  {
   "cell_type": "code",
   "execution_count": 58,
   "metadata": {},
   "outputs": [],
   "source": [
    "#order_to_nifti(\"/home/ORUNET/\" + user + \"/2303_Chalmers/Data/RankVsSort_annoteringar/230608_ML/1681281905.pickle\")"
   ]
  },
  {
   "cell_type": "code",
   "execution_count": 72,
   "metadata": {},
   "outputs": [],
   "source": [
    "def create_indicator_elements(pickle_path, indicator_indices):\n",
    "    save = pickle.load(open(pickle_path, 'rb'))\n",
    "    sort_alg = save['sort_alg']\n",
    "    results = sort_alg.get_result()\n",
    "    paths = correct_paths(results)\n",
    "\n",
    "    for i in indicator_indices:\n",
    "\n",
    "        new_name = paths[i][-22:-8].replace(\"/\", \"_\")+ \".nii\"\n",
    "\n",
    "        data = nib.load(paths[i])\n",
    "        fdata = data.get_fdata()[:,:,0:1]\n",
    "        output_nifti = nib.Nifti1Image(fdata, affine=data.affine)\n",
    "        nib.save(output_nifti, \"/home/ORUNET/\" + user + \"/2303_Chalmers/Data/BWT/Indicators/\" + new_name)\n",
    "        \n",
    "\n",
    "    "
   ]
  },
  {
   "cell_type": "code",
   "execution_count": 71,
   "metadata": {},
   "outputs": [],
   "source": [
    "indicator_indices =  [19, 28, 42, 44, 52, 56, 59, 65, 71, 74]\n",
    "#create_indicator_elements(\"/home/ORUNET/\" + user + \"/2303_Chalmers/Data/RankVsSort_annoteringar/230608_ML/1681281905.pickle\", indicator_indices)"
   ]
  }
 ],
 "metadata": {
  "kernelspec": {
   "display_name": "Python 3",
   "language": "python",
   "name": "python3"
  },
  "language_info": {
   "codemirror_mode": {
    "name": "ipython",
    "version": 3
   },
   "file_extension": ".py",
   "mimetype": "text/x-python",
   "name": "python",
   "nbconvert_exporter": "python",
   "pygments_lexer": "ipython3",
   "version": "3.8.10"
  },
  "orig_nbformat": 4
 },
 "nbformat": 4,
 "nbformat_minor": 2
}

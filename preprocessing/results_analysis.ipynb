{
 "cells": [
  {
   "cell_type": "code",
   "execution_count": 1,
   "metadata": {},
   "outputs": [],
   "source": [
    "import getpass\n",
    "import nibabel as nib\n",
    "from pathlib import Path\n",
    "import os\n",
    "import pandas as pd\n",
    "from tqdm import tqdm\n",
    "import numpy as np\n",
    "import random\n",
    "import shutil\n",
    "import matplotlib.pyplot as plt\n",
    "from matplotlib.patches import Rectangle\n",
    "from matplotlib import transforms\n",
    "import ast"
   ]
  },
  {
   "cell_type": "code",
   "execution_count": 2,
   "metadata": {},
   "outputs": [],
   "source": [
    "user = getpass.getuser()\n",
    "\n",
    "src = \"/home/ORUNET/\" + user + \"/2303_Chalmers/Data/BWT_Annotation_Summer2023/Completed\"\n",
    "\n",
    "paths = list(Path(src).glob('*.csv'))"
   ]
  },
  {
   "cell_type": "code",
   "execution_count": 3,
   "metadata": {},
   "outputs": [],
   "source": [
    "rating_resultsdict = {}\n",
    "\n",
    "for path in paths:\n",
    "    df = pd.read_csv(path, converters={\"result\": ast.literal_eval})\n",
    "\n",
    "    ratings_df = df[df[\"type\"] == \"Rating\"]\n",
    "\n",
    "    for res in ratings_df[\"result\"]:\n",
    "        \n",
    "        subject_id = res[0][:4]\n",
    "\n",
    "        if subject_id in rating_resultsdict:\n",
    "            rating_resultsdict[subject_id].append(res)\n",
    "        else:\n",
    "            rating_resultsdict[subject_id] = [res]\n",
    "\n",
    "for v in rating_resultsdict.values():\n",
    "    v.sort(key=lambda x: x[0])"
   ]
  },
  {
   "cell_type": "code",
   "execution_count": 49,
   "metadata": {},
   "outputs": [
    {
     "name": "stderr",
     "output_type": "stream",
     "text": [
      "100%|██████████| 77/77 [00:18<00:00,  4.24it/s]\n"
     ]
    }
   ],
   "source": [
    "original_file_path = \"/home/ORUNET/\" + user + \"/2303_Chalmers/Data/BWT/Nifti/\"\n",
    "included_files_path = \"/home/ORUNET/\" + user + \"/2303_Chalmers/Data/BWT_Annotation_Summer2023/all_nifti\"\n",
    "segmentation_path = \"/home/ORUNET/\" + user + \"/2303_Chalmers/Data/BWT/Segmentations/\"\n",
    "\n",
    "#Max slices in any lung is 64. 77 * 2 = 154.\n",
    "grid = np.full((64,154), -1)\n",
    "\n",
    "\n",
    "max_slice_amount = 0\n",
    "for subject_id in tqdm(rating_resultsdict.keys()):\n",
    "    left_lung = Path(included_files_path).glob(subject_id + \"*L*.nii\")\n",
    "    left_names = [os.path.basename(path) for path in left_lung]\n",
    "    left_names.sort()\n",
    "    index_in_grid = (int(subject_id[2:]) - 1) * 2\n",
    "    for result in rating_resultsdict[subject_id]:\n",
    "\n",
    "        if \"_R_\" in result[0]:\n",
    "            continue\n",
    "\n",
    "        grid[left_names.index(result[0]), index_in_grid] = result[1]\n",
    "\n",
    "    right_lung = Path(included_files_path).glob(subject_id + \"*R*.nii\")\n",
    "    right_names = [os.path.basename(path) for path in right_lung]\n",
    "    right_names.sort()\n",
    "    index_in_grid = (int(subject_id[2:]) - 1) * 2 + 1\n",
    "    for result in rating_resultsdict[subject_id]:\n",
    "\n",
    "        if \"_L_\" in result[0]:\n",
    "            continue\n",
    "\n",
    "        grid[right_names.index(result[0]), index_in_grid] = result[1]"
   ]
  },
  {
   "cell_type": "code",
   "execution_count": 50,
   "metadata": {},
   "outputs": [
    {
     "data": {
      "text/plain": [
       "<matplotlib.image.AxesImage at 0x7fe8cc009220>"
      ]
     },
     "execution_count": 50,
     "metadata": {},
     "output_type": "execute_result"
    },
    {
     "data": {
      "image/png": "[encoded data removed]",
      "text/plain": [
       "<Figure size 640x480 with 1 Axes>"
      ]
     },
     "metadata": {},
     "output_type": "display_data"
    }
   ],
   "source": [
    "plt.imshow(grid, origin=\"lower\")"
   ]
  }
 ],
 "metadata": {
  "kernelspec": {
   "display_name": "Python 3",
   "language": "python",
   "name": "python3"
  },
  "language_info": {
   "codemirror_mode": {
    "name": "ipython",
    "version": 3
   },
   "file_extension": ".py",
   "mimetype": "text/x-python",
   "name": "python",
   "nbconvert_exporter": "python",
   "pygments_lexer": "ipython3",
   "version": "3.8.10"
  },
  "orig_nbformat": 4
 },
 "nbformat": 4,
 "nbformat_minor": 2
}

{
 "cells": [
  {
   "cell_type": "code",
   "execution_count": 54,
   "metadata": {},
   "outputs": [
    {
     "name": "stdout",
     "output_type": "stream",
     "text": [
      "309\n",
      "Unnamed: 0                                                     0\n",
      "result         ['ImagesSubSetB\\\\026_34893.jpg', 'ImagesSubSet...\n",
      "diff_levels                              [<DiffLevel.normal: 1>]\n",
      "time                                                   79.132241\n",
      "session                     11bd5d29-2fde-4e03-acaa-d32b38f51a3b\n",
      "user                                              Anton Karlsson\n",
      "undone                                                     False\n",
      "Name: 0, dtype: object\n"
     ]
    }
   ],
   "source": [
    "from pathlib import Path\n",
    "import os\n",
    "import pickle\n",
    "import random\n",
    "import shutil\n",
    "import sys\n",
    "from helper_functions import DiffLevel\n",
    "import pandas as pd\n",
    "\n",
    "def save_to_csv_file(i_df):\n",
    "    df = pd.DataFrame({'result': [i_df['result']],\n",
    "                        'diff_levels': [i_df['diff_levels']],\n",
    "                        'time': [i_df['time']],\n",
    "                        'session': [i_df['session']],\n",
    "                        'user': [i_df['user']],\n",
    "                        'undone': [i_df['undone']]})\n",
    "\n",
    "    df.to_csv('Saves\\\\16788936091.csv', mode='a',\n",
    "                header=not os.path.exists('Saves\\\\16788936091.csv'))\n",
    "    \n",
    "def save_algorithm(save_obj):\n",
    "    f = open('Saves\\\\16788936091.pickle', \"wb\")\n",
    "    pickle.dump(save_obj, f)\n",
    "    f.close()\n",
    "\n",
    "saves = pickle.load(open('Saves\\\\1678893609.pickle', 'rb')) \n",
    "print(saves[\"sort_alg\"].comp_count)\n",
    "new_df = pd.read_csv('Saves\\\\16788936091.csv')\n",
    "df = pd.read_csv('Saves\\\\1678893609.csv')\n",
    "saves2 = pickle.load(open('Saves\\\\16788936091.pickle', 'rb')) \n",
    "print(df.iloc[0])\n",
    "saves2[\"sort_alg\"].get_comparison('1')\n",
    "\n",
    "count = 0\n",
    "i = 0\n",
    "while count < 180:\n",
    "    i_df = df.iloc[i]\n",
    "    i += 1\n",
    "    res = i_df['result'].replace(\"[\", \"\").replace(\"]\", \"\").replace(\"'\", \"\").split(\", \")\n",
    "    res =  [ r.replace(\"\\\\\\\\\", \"\\\\\") for r in res]\n",
    "    keys = saves2[\"sort_alg\"].get_comparison(i_df['user'])\n",
    "    if i_df['undone'] == True:\n",
    "        save_to_csv_file(i_df)\n",
    "    elif set(res) == set(keys):\n",
    "        saves2[\"sort_alg\"].inference(i_df['user'], res, [DiffLevel(1)])\n",
    "        save_to_csv_file(i_df)\n",
    "        count += 1\n",
    "    else:\n",
    "        print(res)\n",
    "        print(keys)\n",
    "        print(\"something went wrong\")\n",
    "\n",
    "save_algorithm(saves2)\n",
    "\n",
    "\n"
   ]
  },
  {
   "cell_type": "code",
   "execution_count": 60,
   "metadata": {},
   "outputs": [
    {
     "name": "stdout",
     "output_type": "stream",
     "text": [
      "180\n",
      "184\n"
     ]
    },
    {
     "data": {
      "text/plain": [
       "['ImagesSubSetB\\\\047_15574.jpg', 'ImagesSubSetB\\\\045_30208.jpg']"
      ]
     },
     "execution_count": 60,
     "metadata": {},
     "output_type": "execute_result"
    }
   ],
   "source": [
    "saves = pickle.load(open('Saves\\\\1678893609.pickle', 'rb')) \n",
    "print(saves[\"sort_alg\"].comp_count)\n",
    "df = pd.read_csv('Saves\\\\1678893609.csv')\n",
    "print(len(df))\n",
    "saves[\"sort_alg\"].get_comparison('1')"
   ]
  }
 ],
 "metadata": {
  "kernelspec": {
   "display_name": "python310",
   "language": "python",
   "name": "python3"
  },
  "language_info": {
   "codemirror_mode": {
    "name": "ipython",
    "version": 3
   },
   "file_extension": ".py",
   "mimetype": "text/x-python",
   "name": "python",
   "nbconvert_exporter": "python",
   "pygments_lexer": "ipython3",
   "version": "3.10.9"
  },
  "orig_nbformat": 4,
  "vscode": {
   "interpreter": {
    "hash": "e1c60c88d650c86188faa889228e4111a30a81e4be0a23b0a8fd6f761964a5ce"
   }
  }
 },
 "nbformat": 4,
 "nbformat_minor": 2
}

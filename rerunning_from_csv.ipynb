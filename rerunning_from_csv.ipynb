{
 "cells": [
  {
   "cell_type": "code",
   "execution_count": 2,
   "metadata": {},
   "outputs": [],
   "source": [
    "from pathlib import Path\n",
    "import os\n",
    "import pickle\n",
    "import random\n",
    "import shutil\n",
    "import sys\n",
    "from helper_functions import DiffLevel\n",
    "import pandas as pd"
   ]
  },
  {
   "cell_type": "code",
   "execution_count": 28,
   "metadata": {},
   "outputs": [
    {
     "data": {
      "text/plain": [
       "180"
      ]
     },
     "execution_count": 28,
     "metadata": {},
     "output_type": "execute_result"
    }
   ],
   "source": [
    "df = pd.read_csv('Saves\\\\16788936091.csv')\n",
    "len(df.loc[(df['user'] == 'Anton Karlsson') & (df['undone'] == False)])"
   ]
  },
  {
   "cell_type": "code",
   "execution_count": 24,
   "metadata": {},
   "outputs": [],
   "source": [
    "from pathlib import Path\n",
    "import os\n",
    "import pickle\n",
    "import random\n",
    "import shutil\n",
    "import sys\n",
    "from helper_functions import DiffLevel\n",
    "import pandas as pd\n",
    "\n",
    "path_real = 'Saves\\\\1678893609.csv'\n",
    "path_remake = 'Saves\\\\16788936091.csv'\n",
    "\n",
    "def save_to_csv_file(i_df):\n",
    "    df = pd.DataFrame({'result': [i_df['result']],\n",
    "                        'diff_levels': [i_df['diff_levels']],\n",
    "                        'time': [i_df['time']],\n",
    "                        'session': [i_df['session']],\n",
    "                        'user': [i_df['user']],\n",
    "                        'undone': [i_df['undone']]})\n",
    "\n",
    "    df.to_csv('Saves\\\\16788936091.csv', mode='a',\n",
    "                header=not os.path.exists('Saves\\\\16788936091.csv'))\n",
    "    \n",
    "def save_algorithm(save_obj):\n",
    "    f = open('Saves\\\\16788936091.pickle', \"wb\")\n",
    "    pickle.dump(save_obj, f)\n",
    "    f.close()\n",
    "\n",
    "df = pd.read_csv('Saves\\\\1678893609.csv')\n",
    "save = pickle.load(open('Saves\\\\16788936091.pickle', 'rb')) \n",
    "\n",
    "count = 0\n",
    "i = 0\n",
    "while count < 360:\n",
    "    i_df = df.iloc[i]\n",
    "    i += 1\n",
    "    res = i_df['result'].replace(\"[\", \"\").replace(\"]\", \"\").replace(\"'\", \"\").split(\", \")\n",
    "    res =  [r.replace(\"\\\\\\\\\", \"\\\\\") for r in res]\n",
    "\n",
    "    keys = save[\"sort_alg\"].get_comparison(i_df['user'])\n",
    "\n",
    "    diff_lvls = [DiffLevel(abs([int(s) for s in dl if s.isdigit()][0])) for dl in i_df['diff_levels'].split(\", \")]\n",
    "\n",
    "    if i_df['undone'] == True:\n",
    "        save_to_csv_file(i_df)\n",
    "\n",
    "    elif set(res) == set(keys):\n",
    "        save[\"sort_alg\"].inference(i_df['user'], res, diff_lvls)\n",
    "        save_to_csv_file(i_df)\n",
    "        count += 1\n",
    "    else:\n",
    "        print(res)\n",
    "        print(keys)\n",
    "        print(\"something went wrong\")\n",
    "\n",
    "save_algorithm(save)\n",
    "\n",
    "\n"
   ]
  },
  {
   "cell_type": "code",
   "execution_count": 60,
   "metadata": {},
   "outputs": [
    {
     "name": "stdout",
     "output_type": "stream",
     "text": [
      "180\n",
      "184\n"
     ]
    },
    {
     "data": {
      "text/plain": [
       "['ImagesSubSetB\\\\047_15574.jpg', 'ImagesSubSetB\\\\045_30208.jpg']"
      ]
     },
     "execution_count": 60,
     "metadata": {},
     "output_type": "execute_result"
    }
   ],
   "source": [
    "saves = pickle.load(open('Saves\\\\1678893609.pickle', 'rb')) \n",
    "print(saves[\"sort_alg\"].comp_count)\n",
    "df = pd.read_csv('Saves\\\\1678893609.csv')\n",
    "print(len(df))\n",
    "saves[\"sort_alg\"].get_comparison('1')"
   ]
  }
 ],
 "metadata": {
  "kernelspec": {
   "display_name": "python310",
   "language": "python",
   "name": "python3"
  },
  "language_info": {
   "codemirror_mode": {
    "name": "ipython",
    "version": 3
   },
   "file_extension": ".py",
   "mimetype": "text/x-python",
   "name": "python",
   "nbconvert_exporter": "python",
   "pygments_lexer": "ipython3",
   "version": "3.10.9"
  },
  "orig_nbformat": 4,
  "vscode": {
   "interpreter": {
    "hash": "e1c60c88d650c86188faa889228e4111a30a81e4be0a23b0a8fd6f761964a5ce"
   }
  }
 },
 "nbformat": 4,
 "nbformat_minor": 2
}

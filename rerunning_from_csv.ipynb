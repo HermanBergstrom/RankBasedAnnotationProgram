{
 "cells": [
  {
   "cell_type": "code",
   "execution_count": 21,
   "metadata": {},
   "outputs": [],
   "source": [
    "from pathlib import Path\n",
    "import os\n",
    "import random\n",
    "import shutil\n",
    "\n",
    "im_dir = \"Images/\"  # whereever you want to get files from\n",
    "dst_dir = \"ImagesSubSet\"  # destination folder\n",
    "paths = list(Path(im_dir).glob('**/*.jpg'))\n",
    "sample = random.sample(paths, 300)\n",
    "random.shuffle(sample)\n",
    "set_a_paths = sample[:100]\n",
    "set_b_paths = sample[100:200]\n",
    "set_c_paths = sample[200:250]\n",
    "set_d_paths = sample[250:]\n",
    "\n",
    "for set, paths in zip(['A','B','C','D'],[set_a_paths,set_b_paths,set_c_paths,set_d_paths]):\n",
    "    for src in paths:\n",
    "        path = os.path.join(dst_dir + set, src.name)\n",
    "        os.makedirs(os.path.dirname(path), exist_ok=True)\n",
    "        shutil.copy(src, path)"
   ]
  }
 ],
 "metadata": {
  "kernelspec": {
   "display_name": "python310",
   "language": "python",
   "name": "python3"
  },
  "language_info": {
   "codemirror_mode": {
    "name": "ipython",
    "version": 3
   },
   "file_extension": ".py",
   "mimetype": "text/x-python",
   "name": "python",
   "nbconvert_exporter": "python",
   "pygments_lexer": "ipython3",
   "version": "3.10.9"
  },
  "orig_nbformat": 4,
  "vscode": {
   "interpreter": {
    "hash": "e1c60c88d650c86188faa889228e4111a30a81e4be0a23b0a8fd6f761964a5ce"
   }
  }
 },
 "nbformat": 4,
 "nbformat_minor": 2
}

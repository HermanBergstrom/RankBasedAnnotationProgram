{
 "cells": [
  {
   "cell_type": "code",
   "execution_count": 14,
   "metadata": {},
   "outputs": [],
   "source": [
    "import getpass\n",
    "import nibabel as nib\n",
    "import matplotlib.pyplot as plt\n",
    "from pathlib import Path\n",
    "import numpy as np\n",
    "import os"
   ]
  },
  {
   "cell_type": "code",
   "execution_count": 15,
   "metadata": {},
   "outputs": [],
   "source": [
    "user = getpass.getuser()\n",
    "\n",
    "nifti_dir = \"/home/ORUNET/\" + user + \"/2303_Chalmers/Data/BWT/Nifti/\"\n",
    "nifti_paths = list(Path(nifti_dir).glob('**/*.nii'))\n",
    "\n",
    "seg_dir = \"/home/ORUNET/\" + user + \"/2303_Chalmers/Data/BWT/Segmentations/\"\n",
    "mask_r_paths = list(Path(seg_dir).glob('**/mask_R.nii.gz'))\n",
    "mask_l_paths = list(Path(seg_dir).glob('**/mask_L.nii.gz'))\n",
    "\n",
    "dst_dir = \"/home/ORUNET/\" + user + \"/2303_Chalmers/Data/BWT/Preprocessed/\""
   ]
  },
  {
   "cell_type": "code",
   "execution_count": 21,
   "metadata": {},
   "outputs": [],
   "source": [
    "def save_nib_file(path, nft, nft_affine):\n",
    "    nft_2_save = nib.Nifti1Image(nft, nft_affine)\n",
    "    os.makedirs(os.path.dirname(path), exist_ok=True)\n",
    "    nib.save(nft_2_save, path)\n",
    "\n",
    "\n",
    "def calibrate_color_values(nft_imgs, low_cv = -1024, high_cv = 250):\n",
    "    calibrated_values = nft_imgs.copy()\n",
    "    for i, im in enumerate(calibrated_values):\n",
    "        if any(any(c > high_cv or c < low_cv for c in r) for r in im):\n",
    "            calibrated_values[i] = [[max(min(c, high_cv), low_cv) for c in r] for r in im]\n",
    "    return calibrated_values\n",
    "\n",
    "def get_z_start_stop(mask):\n",
    "    start_z = 0\n",
    "\n",
    "    for z in range(mask.shape[2]):\n",
    "        if mask[:,:,z].any():\n",
    "            start_z = z\n",
    "            break\n",
    "\n",
    "    stop_z = mask.shape[2]\n",
    "\n",
    "    for z in reversed(range(mask.shape[2])):\n",
    "        if mask[:,:,z].any():\n",
    "            stop_z = z\n",
    "            break\n",
    "\n",
    "    return start_z, stop_z\n",
    "\n",
    "\n",
    "def get_x_start_stop(mask):\n",
    "    start_x = 0\n",
    "\n",
    "    for x in range(mask.shape[0]):\n",
    "        if mask[x,:,:].any():\n",
    "            start_x = x\n",
    "            break\n",
    "\n",
    "    stop_x = mask.shape[0]\n",
    "\n",
    "    for x in reversed(range(mask.shape[0])):\n",
    "        if mask[x,:,:].any():\n",
    "            stop_x = x\n",
    "            break\n",
    "\n",
    "    return start_x, stop_x\n",
    "\n",
    "def generate_chunks(nft, mask_l, mask_r, dst_path, chunk_size=17, spacing=4):\n",
    "\n",
    "    masks = [mask_l, mask_r]\n",
    "\n",
    "    print(\"fetching data and calibrating values\")\n",
    "\n",
    "    calibrated_values = calibrate_color_values(nft.get_fdata())\n",
    "\n",
    "    file_name_list = [\"L\", \"R\"]\n",
    "\n",
    "    for i, mask in enumerate(masks):\n",
    "        start_z, stop_z = get_z_start_stop(mask)\n",
    "        start_x, stop_x = get_x_start_stop(mask)\n",
    "\n",
    "        print(\"generating chunks for lung \", file_name_list[i])\n",
    "\n",
    "        for z in range(start_z + chunk_size * spacing, stop_z - chunk_size*spacing, chunk_size * spacing):\n",
    "\n",
    "            chunk = calibrated_values[start_x:stop_x, :, z : z + chunk_size]\n",
    "\n",
    "            save_nib_file(dst_path + f\"/{file_name_list[i]}_{z}_{z+chunk_size}.nii\", chunk, nft.affine)    "
   ]
  },
  {
   "cell_type": "code",
   "execution_count": 22,
   "metadata": {},
   "outputs": [
    {
     "name": "stdout",
     "output_type": "stream",
     "text": [
      "fetching data and calibrating values\n",
      "generating chunks for lung  L\n",
      "generating chunks for lung  R\n"
     ]
    }
   ],
   "source": [
    "def main():\n",
    "    for nifti_path, mask_r_path, mask_l_path in zip(nifti_paths[:1], mask_r_paths[:1], mask_l_paths[:1]):\n",
    "\n",
    "        nft = nib.load(nifti_path)\n",
    "\n",
    "\n",
    "        mask_r = nib.load(mask_r_path).get_fdata()\n",
    "        mask_l = nib.load(mask_l_path).get_fdata()\n",
    "\n",
    "        path = dst_dir + nifti_path.stem \n",
    "        \n",
    "        generate_chunks(nft, mask_l, mask_r, path)\n",
    "\n",
    "main()"
   ]
  }
 ],
 "metadata": {
  "kernelspec": {
   "display_name": "python310",
   "language": "python",
   "name": "python3"
  },
  "language_info": {
   "codemirror_mode": {
    "name": "ipython",
    "version": 3
   },
   "file_extension": ".py",
   "mimetype": "text/x-python",
   "name": "python",
   "nbconvert_exporter": "python",
   "pygments_lexer": "ipython3",
   "version": "3.8.10"
  },
  "orig_nbformat": 4,
  "vscode": {
   "interpreter": {
    "hash": "e1c60c88d650c86188faa889228e4111a30a81e4be0a23b0a8fd6f761964a5ce"
   }
  }
 },
 "nbformat": 4,
 "nbformat_minor": 2
}

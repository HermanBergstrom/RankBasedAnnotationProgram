{
 "cells": [
  {
   "cell_type": "code",
   "execution_count": null,
   "metadata": {},
   "outputs": [],
   "source": [
    "import getpass"
   ]
  },
  {
   "cell_type": "code",
   "execution_count": 6,
   "metadata": {},
   "outputs": [
    {
     "data": {
      "text/plain": [
       "'/home/ORUNET/hanta231/Private/Data/BWT/Nifti'"
      ]
     },
     "execution_count": 6,
     "metadata": {},
     "output_type": "execute_result"
    }
   ],
   "source": [
    "user = getpass.getuser()\n",
    "\n",
    "nifti_dir = \"/home/ORUNET/\" + user + \"/Private/Data/BWT/Nifti\"\n",
    "seg_dir = \"/home/ORUNET/\" + user + \"/Private/Data/BWT/Segmentations\"\n",
    "\n",
    "nifti_dir"
   ]
  },
  {
   "cell_type": "code",
   "execution_count": null,
   "metadata": {},
   "outputs": [],
   "source": []
  }
 ],
 "metadata": {
  "kernelspec": {
   "display_name": "python310",
   "language": "python",
   "name": "python3"
  },
  "language_info": {
   "codemirror_mode": {
    "name": "ipython",
    "version": 3
   },
   "file_extension": ".py",
   "mimetype": "text/x-python",
   "name": "python",
   "nbconvert_exporter": "python",
   "pygments_lexer": "ipython3",
   "version": "3.8.10"
  },
  "orig_nbformat": 4,
  "vscode": {
   "interpreter": {
    "hash": "e1c60c88d650c86188faa889228e4111a30a81e4be0a23b0a8fd6f761964a5ce"
   }
  }
 },
 "nbformat": 4,
 "nbformat_minor": 2
}

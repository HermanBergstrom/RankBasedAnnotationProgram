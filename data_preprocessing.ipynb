{
 "cells": [
  {
   "cell_type": "code",
   "execution_count": 10,
   "metadata": {},
   "outputs": [],
   "source": [
    "import getpass\n",
    "import nibabel as nib\n",
    "import matplotlib.pyplot as plt\n",
    "from pathlib import Path\n",
    "import numpy as np\n",
    "import os"
   ]
  },
  {
   "cell_type": "code",
   "execution_count": 13,
   "metadata": {},
   "outputs": [],
   "source": [
    "user = getpass.getuser()\n",
    "\n",
    "nifti_dir = \"/home/ORUNET/\" + user + \"/2303_Chalmers/Data/BWT/Nifti/\"\n",
    "nifti_paths = list(Path(nifti_dir).glob('**/*.nii'))\n",
    "\n",
    "seg_dir = \"/home/ORUNET/\" + user + \"/2303_Chalmers/Data/BWT/Segmentations/\"\n",
    "mask_r_paths = list(Path(seg_dir).glob('**/mask_R.nii.gz'))\n",
    "mask_l_paths = list(Path(seg_dir).glob('**/mask_L.nii.gz'))\n",
    "\n",
    "dst_dir = \"/home/ORUNET/\" + user + \"/2303_Chalmers/Data/BWT/Preprocessed/\""
   ]
  },
  {
   "cell_type": "code",
   "execution_count": 14,
   "metadata": {},
   "outputs": [
    {
     "name": "stdout",
     "output_type": "stream",
     "text": [
      "1001_bwt\n"
     ]
    },
    {
     "ename": "KeyboardInterrupt",
     "evalue": "",
     "output_type": "error",
     "traceback": [
      "\u001b[0;31m---------------------------------------------------------------------------\u001b[0m",
      "\u001b[0;31mKeyboardInterrupt\u001b[0m                         Traceback (most recent call last)",
      "Cell \u001b[0;32mIn[14], line 22\u001b[0m\n\u001b[1;32m     19\u001b[0m     os\u001b[39m.\u001b[39mmakedirs(os\u001b[39m.\u001b[39mpath\u001b[39m.\u001b[39mdirname(path), exist_ok\u001b[39m=\u001b[39m\u001b[39mTrue\u001b[39;00m)\n\u001b[1;32m     20\u001b[0m     nib\u001b[39m.\u001b[39msave(nft_2_save, path)\n\u001b[0;32m---> 22\u001b[0m main()\n",
      "Cell \u001b[0;32mIn[14], line 6\u001b[0m, in \u001b[0;36mmain\u001b[0;34m()\u001b[0m\n\u001b[1;32m      4\u001b[0m nft \u001b[39m=\u001b[39m nib\u001b[39m.\u001b[39mload(nifti_path)\n\u001b[1;32m      5\u001b[0m nft_affine \u001b[39m=\u001b[39m nft\u001b[39m.\u001b[39maffine\n\u001b[0;32m----> 6\u001b[0m nft_imgs \u001b[39m=\u001b[39m nft\u001b[39m.\u001b[39;49mget_fdata()\n\u001b[1;32m      8\u001b[0m mask_r \u001b[39m=\u001b[39m nib\u001b[39m.\u001b[39mload(mask_r_path)\u001b[39m.\u001b[39mget_fdata()\n\u001b[1;32m      9\u001b[0m mask_l \u001b[39m=\u001b[39m nib\u001b[39m.\u001b[39mload(mask_l_path)\u001b[39m.\u001b[39mget_fdata()\n",
      "File \u001b[0;32m~/.local/lib/python3.8/site-packages/nibabel/dataobj_images.py:368\u001b[0m, in \u001b[0;36mDataobjImage.get_fdata\u001b[0;34m(self, caching, dtype)\u001b[0m\n\u001b[1;32m    364\u001b[0m         \u001b[39mreturn\u001b[39;00m \u001b[39mself\u001b[39m\u001b[39m.\u001b[39m_fdata_cache\n\u001b[1;32m    365\u001b[0m \u001b[39m# Always return requested data type\u001b[39;00m\n\u001b[1;32m    366\u001b[0m \u001b[39m# For array proxies, will attempt to confine data array to dtype\u001b[39;00m\n\u001b[1;32m    367\u001b[0m \u001b[39m# during scaling\u001b[39;00m\n\u001b[0;32m--> 368\u001b[0m data \u001b[39m=\u001b[39m np\u001b[39m.\u001b[39;49masanyarray(\u001b[39mself\u001b[39;49m\u001b[39m.\u001b[39;49m_dataobj, dtype\u001b[39m=\u001b[39;49mdtype)\n\u001b[1;32m    369\u001b[0m \u001b[39mif\u001b[39;00m caching \u001b[39m==\u001b[39m \u001b[39m'\u001b[39m\u001b[39mfill\u001b[39m\u001b[39m'\u001b[39m:\n\u001b[1;32m    370\u001b[0m     \u001b[39mself\u001b[39m\u001b[39m.\u001b[39m_fdata_cache \u001b[39m=\u001b[39m data\n",
      "File \u001b[0;32m~/.local/lib/python3.8/site-packages/nibabel/arrayproxy.py:426\u001b[0m, in \u001b[0;36mArrayProxy.__array__\u001b[0;34m(self, dtype)\u001b[0m\n\u001b[1;32m    405\u001b[0m \u001b[39mdef\u001b[39;00m \u001b[39m__array__\u001b[39m(\u001b[39mself\u001b[39m, dtype\u001b[39m=\u001b[39m\u001b[39mNone\u001b[39;00m):\n\u001b[1;32m    406\u001b[0m \u001b[39m    \u001b[39m\u001b[39m\"\"\"Read data from file and apply scaling, casting to ``dtype``\u001b[39;00m\n\u001b[1;32m    407\u001b[0m \n\u001b[1;32m    408\u001b[0m \u001b[39m    If ``dtype`` is unspecified, the dtype of the returned array is the\u001b[39;00m\n\u001b[0;32m   (...)\u001b[0m\n\u001b[1;32m    424\u001b[0m \u001b[39m        Scaled image data with type `dtype`.\u001b[39;00m\n\u001b[1;32m    425\u001b[0m \u001b[39m    \"\"\"\u001b[39;00m\n\u001b[0;32m--> 426\u001b[0m     arr \u001b[39m=\u001b[39m \u001b[39mself\u001b[39;49m\u001b[39m.\u001b[39;49m_get_scaled(dtype\u001b[39m=\u001b[39;49mdtype, slicer\u001b[39m=\u001b[39;49m())\n\u001b[1;32m    427\u001b[0m     \u001b[39mif\u001b[39;00m dtype \u001b[39mis\u001b[39;00m \u001b[39mnot\u001b[39;00m \u001b[39mNone\u001b[39;00m:\n\u001b[1;32m    428\u001b[0m         arr \u001b[39m=\u001b[39m arr\u001b[39m.\u001b[39mastype(dtype, copy\u001b[39m=\u001b[39m\u001b[39mFalse\u001b[39;00m)\n",
      "File \u001b[0;32m~/.local/lib/python3.8/site-packages/nibabel/arrayproxy.py:393\u001b[0m, in \u001b[0;36mArrayProxy._get_scaled\u001b[0;34m(self, dtype, slicer)\u001b[0m\n\u001b[1;32m    391\u001b[0m     scl_inter \u001b[39m=\u001b[39m scl_inter\u001b[39m.\u001b[39mastype(use_dtype)\n\u001b[1;32m    392\u001b[0m \u001b[39m# Read array and upcast as necessary for big slopes, intercepts\u001b[39;00m\n\u001b[0;32m--> 393\u001b[0m scaled \u001b[39m=\u001b[39m apply_read_scaling(\u001b[39mself\u001b[39;49m\u001b[39m.\u001b[39;49m_get_unscaled(slicer\u001b[39m=\u001b[39;49mslicer), scl_slope, scl_inter)\n\u001b[1;32m    394\u001b[0m \u001b[39mif\u001b[39;00m dtype \u001b[39mis\u001b[39;00m \u001b[39mnot\u001b[39;00m \u001b[39mNone\u001b[39;00m:\n\u001b[1;32m    395\u001b[0m     scaled \u001b[39m=\u001b[39m scaled\u001b[39m.\u001b[39mastype(np\u001b[39m.\u001b[39mpromote_types(scaled\u001b[39m.\u001b[39mdtype, dtype), copy\u001b[39m=\u001b[39m\u001b[39mFalse\u001b[39;00m)\n",
      "File \u001b[0;32m~/.local/lib/python3.8/site-packages/nibabel/volumeutils.py:903\u001b[0m, in \u001b[0;36mapply_read_scaling\u001b[0;34m(arr, slope, inter)\u001b[0m\n\u001b[1;32m    901\u001b[0m     arr \u001b[39m=\u001b[39m arr \u001b[39m*\u001b[39m slope\n\u001b[1;32m    902\u001b[0m \u001b[39mif\u001b[39;00m inter \u001b[39m!=\u001b[39m \u001b[39m0.0\u001b[39m:\n\u001b[0;32m--> 903\u001b[0m     arr \u001b[39m=\u001b[39m arr \u001b[39m+\u001b[39;49m inter\n\u001b[1;32m    904\u001b[0m \u001b[39mreturn\u001b[39;00m arr\u001b[39m.\u001b[39mreshape(shape)\n",
      "File \u001b[0;32m~/.local/lib/python3.8/site-packages/numpy/core/memmap.py:318\u001b[0m, in \u001b[0;36mmemmap.__array_wrap__\u001b[0;34m(self, arr, context)\u001b[0m\n\u001b[1;32m    315\u001b[0m     \u001b[39mif\u001b[39;00m \u001b[39mself\u001b[39m\u001b[39m.\u001b[39mbase \u001b[39mis\u001b[39;00m \u001b[39mnot\u001b[39;00m \u001b[39mNone\u001b[39;00m \u001b[39mand\u001b[39;00m \u001b[39mhasattr\u001b[39m(\u001b[39mself\u001b[39m\u001b[39m.\u001b[39mbase, \u001b[39m'\u001b[39m\u001b[39mflush\u001b[39m\u001b[39m'\u001b[39m):\n\u001b[1;32m    316\u001b[0m         \u001b[39mself\u001b[39m\u001b[39m.\u001b[39mbase\u001b[39m.\u001b[39mflush()\n\u001b[0;32m--> 318\u001b[0m \u001b[39mdef\u001b[39;00m \u001b[39m__array_wrap__\u001b[39m(\u001b[39mself\u001b[39m, arr, context\u001b[39m=\u001b[39m\u001b[39mNone\u001b[39;00m):\n\u001b[1;32m    319\u001b[0m     arr \u001b[39m=\u001b[39m \u001b[39msuper\u001b[39m()\u001b[39m.\u001b[39m__array_wrap__(arr, context)\n\u001b[1;32m    321\u001b[0m     \u001b[39m# Return a memmap if a memmap was given as the output of the\u001b[39;00m\n\u001b[1;32m    322\u001b[0m     \u001b[39m# ufunc. Leave the arr class unchanged if self is not a memmap\u001b[39;00m\n\u001b[1;32m    323\u001b[0m     \u001b[39m# to keep original memmap subclasses behavior\u001b[39;00m\n",
      "\u001b[0;31mKeyboardInterrupt\u001b[0m: "
     ]
    }
   ],
   "source": [
    "def main():\n",
    "    for nifti_path, mask_r_path, mask_l_path in zip(nifti_paths, mask_r_paths, mask_l_paths):\n",
    "        print(nifti_path.stem)\n",
    "        nft = nib.load(nifti_path)\n",
    "        nft_affine = nft.affine\n",
    "        nft_imgs = nft.get_fdata()\n",
    "\n",
    "        mask_r = nib.load(mask_r_path).get_fdata()\n",
    "        mask_l = nib.load(mask_l_path).get_fdata()\n",
    "\n",
    "        path = dst_dir + nifti_path.stem # + individual name\n",
    "        \n",
    "        #save_nib_file(path, nft_imgs, nft_affine)\n",
    "        \n",
    "\n",
    "def save_nib_file(path, nft, nft_affine):\n",
    "    nft_2_save = nib.Nifti1Image(nft, nft_affine)\n",
    "    os.makedirs(os.path.dirname(path), exist_ok=True)\n",
    "    nib.save(nft_2_save, path)\n",
    "\n",
    "main()"
   ]
  },
  {
   "cell_type": "code",
   "execution_count": null,
   "metadata": {},
   "outputs": [],
   "source": [
    "mask = nib.load(seg_dir + \"/1001_bwt/mask_R.nii.gz\").get_fdata()"
   ]
  },
  {
   "cell_type": "code",
   "execution_count": null,
   "metadata": {},
   "outputs": [],
   "source": [
    "start_z = 0\n",
    "\n",
    "for z in range(mask.shape[2]):\n",
    "    if mask[:,:,z].any():\n",
    "        start_z = z\n",
    "        break\n",
    "\n",
    "stop_z = mask.shape[2]\n",
    "\n",
    "for z in reversed(range(mask.shape[2])):\n",
    "    if mask[:,:,z].any():\n",
    "        stop_z = z\n",
    "        break\n",
    "\n",
    "print(\"start:\", start_z, \"stop:\", stop_z)\n",
    "\n",
    "start_x = 0\n",
    "\n",
    "for x in range(mask.shape[0]):\n",
    "    if mask[x,:,:].any():\n",
    "        start_x = x\n",
    "        break\n",
    "\n",
    "stop_x = mask.shape[0]\n",
    "\n",
    "for x in reversed(range(mask.shape[0])):\n",
    "    if mask[x,:,:].any():\n",
    "        stop_x = x\n",
    "        break\n",
    "\n",
    "print(\"start:\", start_x, \"stop:\", stop_x)\n",
    "\n",
    "\n"
   ]
  },
  {
   "cell_type": "code",
   "execution_count": null,
   "metadata": {},
   "outputs": [],
   "source": [
    "nib_file = nib.load(nifti_paths[0])\n",
    "img_affine = nib_file.affine\n",
    "nib_imgs = nib_file.get_fdata()"
   ]
  },
  {
   "cell_type": "code",
   "execution_count": null,
   "metadata": {},
   "outputs": [],
   "source": [
    "nib_imgs = nib_imgs[start_x:stop_x,50:-50, 200:201] \n",
    "\n",
    "low_cv, high_cv = -1024, 250\n",
    "\n",
    "for i, im in enumerate(nib_imgs):\n",
    "    if any(any(c > high_cv or c < low_cv for c in r) for r in im):\n",
    "        nib_imgs[i] = [[max(min(c, high_cv), low_cv) for c in r] for r in im]"
   ]
  },
  {
   "cell_type": "code",
   "execution_count": null,
   "metadata": {},
   "outputs": [],
   "source": [
    "for i in range(0, nib_imgs.shape[2], 17):\n",
    "    img = np.rot90(nib_imgs[:, :, i])\n",
    "plt.imshow(img, cmap=cm.gray)\n",
    "nft_img = nib.Nifti1Image(nib_imgs, img_affine)\n",
    "p = dst_dir + '/hello.nii'\n",
    "os.makedirs(os.path.dirname(p), exist_ok=True)\n",
    "nib.save(nft_img, p)"
   ]
  }
 ],
 "metadata": {
  "kernelspec": {
   "display_name": "python310",
   "language": "python",
   "name": "python3"
  },
  "language_info": {
   "codemirror_mode": {
    "name": "ipython",
    "version": 3
   },
   "file_extension": ".py",
   "mimetype": "text/x-python",
   "name": "python",
   "nbconvert_exporter": "python",
   "pygments_lexer": "ipython3",
   "version": "3.8.10"
  },
  "orig_nbformat": 4,
  "vscode": {
   "interpreter": {
    "hash": "e1c60c88d650c86188faa889228e4111a30a81e4be0a23b0a8fd6f761964a5ce"
   }
  }
 },
 "nbformat": 4,
 "nbformat_minor": 2
}

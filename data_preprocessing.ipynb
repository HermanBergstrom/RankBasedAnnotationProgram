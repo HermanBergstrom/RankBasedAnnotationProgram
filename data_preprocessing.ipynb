{
 "cells": [
  {
   "cell_type": "code",
   "execution_count": 1,
   "metadata": {},
   "outputs": [],
   "source": [
    "import getpass\n",
    "import nibabel as nib\n",
    "from pathlib import Path\n",
    "import os\n",
    "import math\n",
    "import pandas as pd\n",
    "from tqdm import tqdm\n",
    "import numpy as np\n",
    "import random\n",
    "import shutil"
   ]
  },
  {
   "cell_type": "code",
   "execution_count": 2,
   "metadata": {},
   "outputs": [],
   "source": [
    "user = getpass.getuser()\n",
    "\n",
    "src = \"/home/ORUNET/\" + user + \"/2303_Chalmers/Data/BWT/\"\n",
    "nifti_paths = list(Path(src).glob('Nifti/**/*.nii'))\n",
    "mask_r_paths = list(Path(src).glob('**/mask_R.nii.gz'))\n",
    "mask_l_paths = list(Path(src).glob('**/mask_L.nii.gz'))"
   ]
  },
  {
   "cell_type": "code",
   "execution_count": 3,
   "metadata": {},
   "outputs": [],
   "source": [
    "def save_nib_file(path, nft, nft_affine):\n",
    "    nft_2_save = nib.Nifti1Image(nft, nft_affine)\n",
    "    os.makedirs(os.path.dirname(path), exist_ok=True)\n",
    "    nib.save(nft_2_save, path)\n",
    "\n",
    "\n",
    "def calibrate_color_values(nft_imgs, low_cv = -1250, high_cv = 250):\n",
    "\n",
    "    calibrated_values = nft_imgs.copy()\n",
    "    for i, im in enumerate(calibrated_values):\n",
    "        if any(any(c > high_cv or c < low_cv for c in r) for r in im):\n",
    "            calibrated_values[i] = [[max(min(c, high_cv), low_cv) for c in r] for r in im]\n",
    "\n",
    "    return ((calibrated_values - low_cv) / (high_cv-low_cv)) * 255\n",
    "\n",
    "def get_z_start_stop(mask):\n",
    "    start_z = 0\n",
    "\n",
    "    for z in range(mask.shape[2]):\n",
    "        if mask[:,:,z].any():\n",
    "            start_z = z\n",
    "            break\n",
    "\n",
    "    stop_z = mask.shape[2]\n",
    "\n",
    "    for z in reversed(range(mask.shape[2])):\n",
    "        if mask[:,:,z].any():\n",
    "            stop_z = z\n",
    "            break\n",
    "\n",
    "    return start_z, stop_z\n",
    "\n",
    "\n",
    "def get_x_start_stop(mask):\n",
    "    start_x = 0\n",
    "\n",
    "    for x in range(mask.shape[0]):\n",
    "        if mask[x,:,:].any():\n",
    "            start_x = x\n",
    "            break\n",
    "\n",
    "    stop_x = mask.shape[0]\n",
    "\n",
    "    for x in reversed(range(mask.shape[0])):\n",
    "        if mask[x,:,:].any():\n",
    "            stop_x = x\n",
    "            break\n",
    "\n",
    "    return start_x, stop_x\n",
    "\n",
    "def get_y_start_stop(mask):\n",
    "    start_y = 0\n",
    "\n",
    "    for y in range(mask.shape[1]):\n",
    "        if mask[:,y,:].any():\n",
    "            start_y = y\n",
    "            break\n",
    "\n",
    "    stop_y = mask.shape[1]\n",
    "\n",
    "    for y in reversed(range(mask.shape[1])):\n",
    "        if mask[:,y,:].any():\n",
    "            stop_y = y\n",
    "            break\n",
    "\n",
    "    return start_y, stop_y\n",
    "\n",
    "def adjust_size_xy(nft_data, start_x, stop_x, start_y, stop_y, size=(240, 320)):\n",
    "\n",
    "    w_diff = size[0] - (stop_x - start_x)\n",
    "\n",
    "    start_x -= math.ceil(w_diff / 2)\n",
    "    stop_x += math.floor(w_diff / 2)\n",
    "\n",
    "    if start_x < 0:\n",
    "        stop_x -= start_x\n",
    "        start_x = 0\n",
    "    elif stop_x > nft_data.shape[0]:\n",
    "        start_x -= stop_x - nft_data.shape[0]\n",
    "        stop_x = nft_data.shape[0]\n",
    "\n",
    "    h_diff = size[1] - (stop_y - start_y)\n",
    "\n",
    "    start_y -= math.ceil(h_diff / 2)\n",
    "    stop_y += math.floor(h_diff / 2)\n",
    "\n",
    "    if start_y < 0:\n",
    "        stop_y -= start_y\n",
    "        start_y = 0\n",
    "    elif stop_y > nft_data.shape[1]:\n",
    "        start_y -= stop_y - nft_data.shape[1]\n",
    "        stop_y = nft_data.shape[1]\n",
    "\n",
    "    return start_x, stop_x, start_y, stop_y\n",
    "\n",
    "def save_to_df(file_name, dst_path, start_x, stop_x, start_y, stop_y, start_z, stop_z):\n",
    "        \n",
    "    df = pd.DataFrame({'name': [file_name],\n",
    "                       'path': [dst_path],\n",
    "                       'x': [[start_x, stop_x]],\n",
    "                       'y': [[start_y, stop_y]],\n",
    "                       'z': [[start_z, stop_z]]})\n",
    "    \n",
    "    dst = str(Path(dst_path).parent) + \"/df.csv\"\n",
    "\n",
    "    df.to_csv(dst, mode='a',\n",
    "                header=not os.path.exists(dst))\n",
    "\n",
    "\n",
    "def generate_chunks(nft, mask_l, mask_r, dst_path, chunk_size=17, spacing=4):\n",
    "\n",
    "    masks = [mask_l, mask_r]\n",
    "\n",
    "    nft_data = nft.get_fdata()\n",
    "\n",
    "    file_name_list = [\"L\", \"R\"]\n",
    "\n",
    "    for i, mask in enumerate(masks):\n",
    "        \n",
    "        start_z, stop_z = get_z_start_stop(mask)\n",
    "\n",
    "        for z in range(start_z + (chunk_size * spacing) * 2, stop_z - chunk_size*spacing, chunk_size * spacing):\n",
    "\n",
    "            file_name = f\"/{file_name_list[i]}_{z}_{z+chunk_size}.nii\"\n",
    "\n",
    "            start_x, stop_x = get_x_start_stop(mask[:,:, z : z + chunk_size])\n",
    "            start_y, stop_y = get_y_start_stop(mask[:,:, z : z + chunk_size])\n",
    "\n",
    "            if stop_x - start_x > nft_data.shape[0]//2:\n",
    "                save_to_df(file_name, dst_path, start_x, stop_x, start_y, stop_y, z, z + chunk_size)\n",
    "\n",
    "            start_x, stop_x, start_y, stop_y = adjust_size_xy(nft_data, start_x, stop_x, start_y, stop_y)\n",
    "\n",
    "            chunk = calibrate_color_values(nft_data[start_x:stop_x, start_y:stop_y, z : z + chunk_size])\n",
    "\n",
    "            save_nib_file(dst_path + file_name, chunk, nft.affine)    "
   ]
  },
  {
   "cell_type": "code",
   "execution_count": 4,
   "metadata": {},
   "outputs": [
    {
     "name": "stderr",
     "output_type": "stream",
     "text": [
      "100%|██████████| 57/57 [20:16<00:00, 21.34s/it]\n"
     ]
    }
   ],
   "source": [
    "def main():\n",
    "\n",
    "    for nifti_path, mask_r_path, mask_l_path in tqdm(zip(nifti_paths, mask_r_paths, mask_l_paths), total=len(nifti_paths)):\n",
    "\n",
    "        nft = nib.load(nifti_path)\n",
    "\n",
    "        mask_r = nib.load(mask_r_path).get_fdata()\n",
    "        mask_l = nib.load(mask_l_path).get_fdata()\n",
    "\n",
    "        path = src + 'Preprocessed/' + nifti_path.stem\n",
    "        \n",
    "        generate_chunks(nft, mask_l, mask_r, path)\n",
    "\n",
    "main()"
   ]
  },
  {
   "cell_type": "code",
   "execution_count": 60,
   "metadata": {},
   "outputs": [
    {
     "name": "stdout",
     "output_type": "stream",
     "text": [
      "320\n"
     ]
    },
    {
     "data": {
      "image/png": "[encoded data removed]",
      "text/plain": [
       "<Figure size 640x480 with 1 Axes>"
      ]
     },
     "metadata": {},
     "output_type": "display_data"
    }
   ],
   "source": [
    "import matplotlib.pyplot as plt\n",
    "nisan = nib.load(src + 'Preprocessed/1021_bwt/L_255_272.nii').get_fdata()\n",
    "plt.imshow(np.rot90(nisan[:,:,4]), cmap='gray')\n",
    "print(nisan.shape[1])"
   ]
  },
  {
   "cell_type": "code",
   "execution_count": 24,
   "metadata": {},
   "outputs": [
    {
     "name": "stderr",
     "output_type": "stream",
     "text": [
      "100%|██████████| 50/50 [00:41<00:00,  1.21it/s]\n"
     ]
    }
   ],
   "source": [
    "prep_paths = list(Path(src + 'Preprocessed/').glob('**/*.nii'))  # whereever you want to get files from\n",
    "dst_dir = src +  'PreprocessedSubset' # destination folder\n",
    "\n",
    "for og_path in tqdm(random.sample(prep_paths, 50)):\n",
    "    new_name = str(og_path.relative_to(src + 'Preprocessed/')).replace(\"/\", \"_\")\n",
    "    output_path = os.path.join(dst_dir, new_name)\n",
    "    \n",
    "    nft = nib.load(og_path)\n",
    "    save_nib_file(output_path, nft.get_fdata(), nft.affine)    "
   ]
  },
  {
   "cell_type": "code",
   "execution_count": 4,
   "metadata": {},
   "outputs": [],
   "source": [
    "df = pd.read_csv(\"/home/ORUNET/herbe231/2303_Chalmers/Mailbox/Till_Hanna_o_Herman/1680240979.csv\")\n",
    "df2 = pd.read_csv(\"/home/ORUNET/herbe231/2303_Chalmers/Mailbox/Till_Hanna_o_Herman/1680184624.csv\")"
   ]
  },
  {
   "cell_type": "code",
   "execution_count": 5,
   "metadata": {},
   "outputs": [
    {
     "name": "stdout",
     "output_type": "stream",
     "text": [
      "1061_bwt_R_331_348.nii        0        2        False        False\n",
      "1065_bwt_L_243_260.nii        0        1        False        False\n",
      "1009_bwt_L_267_284.nii        0        1        False        False\n",
      "1059_bwt_R_383_400.nii        0        1        False        False\n",
      "1047_bwt_L_267_284.nii        0        2        False        False\n",
      "1021_bwt_L_255_272.nii        0        2        False        False\n",
      "1049_bwt_L_191_208.nii        0        1        False        False\n",
      "1005_bwt_R_167_184.nii        0        1        False        False\n",
      "1069_bwt_R_203_220.nii        1        2        False        False\n",
      "1069_bwt_R_271_288.nii        0        1        False        False\n",
      "1020_bwt_R_382_399.nii        0        1        False        False\n",
      "1051_bwt_L_323_340.nii        1        0        False        False\n",
      "1077_bwt_R_406_423.nii        0        1        False        False\n",
      "1015_bwt_R_439_456.nii        0        1        False        False\n",
      "1041_bwt_L_351_368.nii        0        1        False        False\n",
      "1030_bwt_L_191_208.nii        1        0        False        False\n",
      "1060_bwt_R_311_328.nii        0        2        False        False\n",
      "1046_bwt_R_183_200.nii        0        1        False        False\n",
      "1005_bwt_R_303_320.nii        0        1        False        False\n",
      "1053_bwt_L_163_180.nii        1        2        False        False\n",
      "1002_bwt_R_395_412.nii        0        1        False        False\n",
      "1031_bwt_L_249_266.nii        1        2        False        False\n"
     ]
    }
   ],
   "source": [
    "list_a = [sc[-22:].replace(\"/\", \"_\") for sc in list(df[\"src\"])]\n",
    "list_b = [sc[-22:] for sc in list(df2[\"src\"])]\n",
    "#print(list_a)\n",
    "#print(list_b)\n",
    "inconsistencies=[]\n",
    "\n",
    "overlaps = set(list_a).intersection(set(list_b))\n",
    "\n",
    "for path in overlaps:\n",
    "    df_index = list_a.index(path)\n",
    "    df2_index = list_b.index(path)\n",
    "\n",
    "    if df.iloc[df_index][\"rating\"] != df2.iloc[df2_index][\"rating\"]:\n",
    "        print(path,'      ',df.iloc[df_index][\"rating\"],'      ',df2.iloc[df2_index][\"rating\"],'      ', df.iloc[df_index][\"undone\"],'      ',df2.iloc[df2_index][\"undone\"])\n",
    "        inconsistencies.append(path)\n",
    "\n",
    "#values = set(list(df[\"src\"])).intersection(set(list(df2[\"src\"])))\n",
    "\n",
    "#print(values)\n"
   ]
  },
  {
   "cell_type": "code",
   "execution_count": 10,
   "metadata": {},
   "outputs": [
    {
     "name": "stderr",
     "output_type": "stream",
     "text": [
      " 10%|█         | 43/414 [00:22<02:53,  2.14it/s]"
     ]
    },
    {
     "name": "stdout",
     "output_type": "stream",
     "text": [
      "1\n"
     ]
    },
    {
     "name": "stderr",
     "output_type": "stream",
     "text": [
      " 15%|█▍        | 62/414 [00:32<02:21,  2.49it/s]"
     ]
    },
    {
     "name": "stdout",
     "output_type": "stream",
     "text": [
      "2\n"
     ]
    },
    {
     "name": "stderr",
     "output_type": "stream",
     "text": [
      " 31%|███▏      | 130/414 [01:10<01:19,  3.58it/s]"
     ]
    },
    {
     "name": "stdout",
     "output_type": "stream",
     "text": [
      "3\n"
     ]
    },
    {
     "name": "stderr",
     "output_type": "stream",
     "text": [
      " 33%|███▎      | 138/414 [01:16<03:25,  1.34it/s]"
     ]
    },
    {
     "name": "stdout",
     "output_type": "stream",
     "text": [
      "4\n"
     ]
    },
    {
     "name": "stderr",
     "output_type": "stream",
     "text": [
      " 42%|████▏     | 173/414 [01:37<02:02,  1.96it/s]"
     ]
    },
    {
     "name": "stdout",
     "output_type": "stream",
     "text": [
      "5\n",
      "6\n"
     ]
    },
    {
     "name": "stderr",
     "output_type": "stream",
     "text": [
      " 45%|████▌     | 187/414 [01:45<02:45,  1.37it/s]"
     ]
    },
    {
     "name": "stdout",
     "output_type": "stream",
     "text": [
      "7\n"
     ]
    },
    {
     "name": "stderr",
     "output_type": "stream",
     "text": [
      " 52%|█████▏    | 214/414 [02:00<02:01,  1.64it/s]"
     ]
    },
    {
     "name": "stdout",
     "output_type": "stream",
     "text": [
      "8\n"
     ]
    },
    {
     "name": "stderr",
     "output_type": "stream",
     "text": [
      " 56%|█████▌    | 232/414 [02:08<00:54,  3.34it/s]"
     ]
    },
    {
     "name": "stdout",
     "output_type": "stream",
     "text": [
      "9\n"
     ]
    },
    {
     "name": "stderr",
     "output_type": "stream",
     "text": [
      " 60%|██████    | 249/414 [02:19<01:36,  1.71it/s]"
     ]
    },
    {
     "name": "stdout",
     "output_type": "stream",
     "text": [
      "10\n"
     ]
    },
    {
     "name": "stderr",
     "output_type": "stream",
     "text": [
      " 63%|██████▎   | 260/414 [02:22<00:52,  2.94it/s]"
     ]
    },
    {
     "name": "stdout",
     "output_type": "stream",
     "text": [
      "11\n"
     ]
    },
    {
     "name": "stderr",
     "output_type": "stream",
     "text": [
      " 68%|██████▊   | 283/414 [02:35<01:03,  2.05it/s]"
     ]
    },
    {
     "name": "stdout",
     "output_type": "stream",
     "text": [
      "12\n"
     ]
    },
    {
     "name": "stderr",
     "output_type": "stream",
     "text": [
      " 70%|██████▉   | 288/414 [02:38<01:07,  1.87it/s]"
     ]
    },
    {
     "name": "stdout",
     "output_type": "stream",
     "text": [
      "13\n"
     ]
    },
    {
     "name": "stderr",
     "output_type": "stream",
     "text": [
      " 74%|███████▍  | 308/414 [02:50<01:09,  1.53it/s]"
     ]
    },
    {
     "name": "stdout",
     "output_type": "stream",
     "text": [
      "14\n"
     ]
    },
    {
     "name": "stderr",
     "output_type": "stream",
     "text": [
      " 75%|███████▌  | 311/414 [02:52<01:02,  1.65it/s]"
     ]
    },
    {
     "name": "stdout",
     "output_type": "stream",
     "text": [
      "15\n"
     ]
    },
    {
     "name": "stderr",
     "output_type": "stream",
     "text": [
      " 76%|███████▌  | 314/414 [02:52<00:43,  2.32it/s]"
     ]
    },
    {
     "name": "stdout",
     "output_type": "stream",
     "text": [
      "16\n"
     ]
    },
    {
     "name": "stderr",
     "output_type": "stream",
     "text": [
      " 77%|███████▋  | 320/414 [02:56<01:00,  1.55it/s]"
     ]
    },
    {
     "name": "stdout",
     "output_type": "stream",
     "text": [
      "17\n"
     ]
    },
    {
     "name": "stderr",
     "output_type": "stream",
     "text": [
      " 85%|████████▌ | 353/414 [03:21<00:47,  1.28it/s]"
     ]
    },
    {
     "name": "stdout",
     "output_type": "stream",
     "text": [
      "18\n"
     ]
    },
    {
     "name": "stderr",
     "output_type": "stream",
     "text": [
      " 94%|█████████▎| 388/414 [03:48<00:19,  1.33it/s]"
     ]
    },
    {
     "name": "stdout",
     "output_type": "stream",
     "text": [
      "19\n"
     ]
    },
    {
     "name": "stderr",
     "output_type": "stream",
     "text": [
      "100%|██████████| 414/414 [04:07<00:00,  1.67it/s]\n",
      "  1%|          | 1/113 [00:00<01:34,  1.18it/s]"
     ]
    },
    {
     "name": "stdout",
     "output_type": "stream",
     "text": [
      "20\n"
     ]
    },
    {
     "name": "stderr",
     "output_type": "stream",
     "text": [
      " 12%|█▏        | 14/113 [00:09<01:12,  1.36it/s]"
     ]
    },
    {
     "name": "stdout",
     "output_type": "stream",
     "text": [
      "21\n"
     ]
    },
    {
     "name": "stderr",
     "output_type": "stream",
     "text": [
      " 27%|██▋       | 30/113 [00:20<01:01,  1.36it/s]"
     ]
    },
    {
     "name": "stdout",
     "output_type": "stream",
     "text": [
      "22\n"
     ]
    },
    {
     "name": "stderr",
     "output_type": "stream",
     "text": [
      " 31%|███       | 35/113 [00:23<00:52,  1.48it/s]"
     ]
    },
    {
     "name": "stdout",
     "output_type": "stream",
     "text": [
      "23\n"
     ]
    },
    {
     "name": "stderr",
     "output_type": "stream",
     "text": [
      " 49%|████▊     | 55/113 [00:38<00:45,  1.28it/s]"
     ]
    },
    {
     "name": "stdout",
     "output_type": "stream",
     "text": [
      "24\n"
     ]
    },
    {
     "name": "stderr",
     "output_type": "stream",
     "text": [
      " 64%|██████▎   | 72/113 [00:49<00:26,  1.57it/s]"
     ]
    },
    {
     "name": "stdout",
     "output_type": "stream",
     "text": [
      "25\n",
      "26\n"
     ]
    },
    {
     "name": "stderr",
     "output_type": "stream",
     "text": [
      " 66%|██████▋   | 75/113 [00:49<00:16,  2.30it/s]"
     ]
    },
    {
     "name": "stdout",
     "output_type": "stream",
     "text": [
      "27\n"
     ]
    },
    {
     "name": "stderr",
     "output_type": "stream",
     "text": [
      " 72%|███████▏  | 81/113 [00:50<00:07,  4.50it/s]"
     ]
    },
    {
     "name": "stdout",
     "output_type": "stream",
     "text": [
      "28\n",
      "29\n",
      "30\n",
      "31\n"
     ]
    },
    {
     "name": "stderr",
     "output_type": "stream",
     "text": [
      " 73%|███████▎  | 83/113 [00:51<00:07,  3.85it/s]"
     ]
    },
    {
     "name": "stdout",
     "output_type": "stream",
     "text": [
      "32\n"
     ]
    },
    {
     "name": "stderr",
     "output_type": "stream",
     "text": [
      " 75%|███████▌  | 85/113 [00:52<00:08,  3.46it/s]"
     ]
    },
    {
     "name": "stdout",
     "output_type": "stream",
     "text": [
      "33\n"
     ]
    },
    {
     "name": "stderr",
     "output_type": "stream",
     "text": [
      " 81%|████████▏ | 92/113 [00:57<00:14,  1.48it/s]"
     ]
    },
    {
     "name": "stdout",
     "output_type": "stream",
     "text": [
      "34\n"
     ]
    },
    {
     "name": "stderr",
     "output_type": "stream",
     "text": [
      " 90%|█████████ | 102/113 [01:03<00:04,  2.28it/s]"
     ]
    },
    {
     "name": "stdout",
     "output_type": "stream",
     "text": [
      "35\n",
      "36\n"
     ]
    },
    {
     "name": "stderr",
     "output_type": "stream",
     "text": [
      " 95%|█████████▍| 107/113 [01:06<00:04,  1.41it/s]"
     ]
    },
    {
     "name": "stdout",
     "output_type": "stream",
     "text": [
      "37\n"
     ]
    },
    {
     "name": "stderr",
     "output_type": "stream",
     "text": [
      "100%|██████████| 113/113 [01:10<00:00,  1.59it/s]\n",
      " 46%|████▌     | 11/24 [00:08<00:10,  1.29it/s]"
     ]
    },
    {
     "name": "stdout",
     "output_type": "stream",
     "text": [
      "38\n",
      "39\n",
      "40\n",
      "41\n"
     ]
    },
    {
     "name": "stderr",
     "output_type": "stream",
     "text": [
      " 75%|███████▌  | 18/24 [00:10<00:02,  2.07it/s]"
     ]
    },
    {
     "name": "stdout",
     "output_type": "stream",
     "text": [
      "42\n",
      "43\n",
      "44\n"
     ]
    },
    {
     "name": "stderr",
     "output_type": "stream",
     "text": [
      "100%|██████████| 24/24 [00:13<00:00,  1.81it/s]\n"
     ]
    }
   ],
   "source": [
    "dst_dir = src + 'NoneSubset' # destination folder\n",
    "\n",
    "file_count = 0\n",
    "\n",
    "dst_names = ['NoneSubset', 'MildSubset', 'ModerateSubset']\n",
    "inconsistency_counter = 0\n",
    "for i in range(3):\n",
    "    dst_dir = src + dst_names[i]\n",
    "    for og_path in tqdm(list(df[df['rating'] == i][\"src\"]) + list(df2[df2['rating'] == i][\"src\"])):\n",
    "        if 'MVdrive' in og_path:\n",
    "            og_path = og_path.replace('../../../../MVdrive/CTCOPD/Data_Analysis/Temp_Access', '/home/ORUNET/herbe231')\n",
    "            new_name = str(Path(og_path).relative_to(src + 'PreprocessedSubset'))\n",
    "        else: \n",
    "            og_path = og_path.replace('../../../Data', '/home/ORUNET/herbe231/2303_Chalmers/Data/BWT')\n",
    "            new_name = str(Path(og_path).relative_to(src + 'Preprocessed')).replace(\"/\", \"_\")\n",
    "        if os.path.isfile(og_path):\n",
    "            if new_name not in inconsistencies:\n",
    "                output_path = os.path.join(dst_dir, new_name)\n",
    "                \n",
    "                nft = nib.load(og_path)\n",
    "                save_nib_file(output_path, nft.get_fdata(), nft.affine)\n",
    "            else:\n",
    "                inconsistency_counter +=1\n",
    "                print(inconsistency_counter)"
   ]
  },
  {
   "cell_type": "code",
   "execution_count": 76,
   "metadata": {},
   "outputs": [
    {
     "data": {
      "text/plain": [
       "22"
      ]
     },
     "execution_count": 76,
     "metadata": {},
     "output_type": "execute_result"
    }
   ],
   "source": [
    "dst_dir = src + 'InconsistentSubset' # destination folder\n",
    "nii_paths = []\n",
    "for i in range(3):\n",
    "    nii_paths += list(Path(src+dst_names[i]).glob('*.nii'))\n",
    "nii_paths = [nii for nii in nii_paths if str(nii)[-22:] in inconsistencies]"
   ]
  },
  {
   "cell_type": "code",
   "execution_count": 8,
   "metadata": {},
   "outputs": [
    {
     "name": "stderr",
     "output_type": "stream",
     "text": [
      "100%|██████████| 44/44 [00:35<00:00,  1.26it/s]\n"
     ]
    }
   ],
   "source": [
    "dst_dir = src + 'InconsistentSubset' # destination folder\n",
    "dst_names = ['NoneSubset', 'MildSubset', 'ModerateSubset']\n",
    "nii_paths = []\n",
    "for i in range(3):\n",
    "    nii_paths += list(Path(src+dst_names[i]).glob('*.nii'))\n",
    "nii_paths = [nii for nii in nii_paths if str(nii)[-22:] in inconsistencies]\n",
    "\n",
    "for og_path in tqdm(nii_paths):\n",
    "    new_name = str(og_path)[-22:]\n",
    "    output_path = os.path.join(dst_dir, new_name)\n",
    "    nft = nib.load(og_path)\n",
    "    save_nib_file(output_path, nft.get_fdata(), nft.affine)   "
   ]
  }
 ],
 "metadata": {
  "kernelspec": {
   "display_name": "python310",
   "language": "python",
   "name": "python3"
  },
  "language_info": {
   "codemirror_mode": {
    "name": "ipython",
    "version": 3
   },
   "file_extension": ".py",
   "mimetype": "text/x-python",
   "name": "python",
   "nbconvert_exporter": "python",
   "pygments_lexer": "ipython3",
   "version": "3.8.10"
  },
  "orig_nbformat": 4,
  "vscode": {
   "interpreter": {
    "hash": "e1c60c88d650c86188faa889228e4111a30a81e4be0a23b0a8fd6f761964a5ce"
   }
  }
 },
 "nbformat": 4,
 "nbformat_minor": 2
}

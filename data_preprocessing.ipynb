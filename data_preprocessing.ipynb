{
 "cells": [
  {
   "cell_type": "code",
   "execution_count": 3,
   "metadata": {},
   "outputs": [
    {
     "ename": "TypeError",
     "evalue": "expected str, bytes or os.PathLike object, not generator",
     "output_type": "error",
     "traceback": [
      "\u001b[1;31m---------------------------------------------------------------------------\u001b[0m",
      "\u001b[1;31mTypeError\u001b[0m                                 Traceback (most recent call last)",
      "Cell \u001b[1;32mIn[3], line 9\u001b[0m\n\u001b[0;32m      7\u001b[0m dst_dir \u001b[39m=\u001b[39m \u001b[39m\"\u001b[39m\u001b[39mImagesSubSetD/\u001b[39m\u001b[39m\"\u001b[39m  \u001b[39m# destination folder\u001b[39;00m\n\u001b[0;32m      8\u001b[0m paths \u001b[39m=\u001b[39m \u001b[39mlist\u001b[39m(Path(im_dir)\u001b[39m.\u001b[39mglob(\u001b[39m'\u001b[39m\u001b[39m**/*.jpg\u001b[39m\u001b[39m'\u001b[39m))\n\u001b[1;32m----> 9\u001b[0m check_dup_list \u001b[39m=\u001b[39m \u001b[39mlist\u001b[39m(os\u001b[39m.\u001b[39;49mpath\u001b[39m.\u001b[39;49mbasename(Path(\u001b[39m\"\u001b[39;49m\u001b[39mImagesSubSetC/\u001b[39;49m\u001b[39m\"\u001b[39;49m)\u001b[39m.\u001b[39;49mglob(\u001b[39m'\u001b[39;49m\u001b[39m**/*.jpg\u001b[39;49m\u001b[39m'\u001b[39;49m)))\n\u001b[0;32m     10\u001b[0m \u001b[39mprint\u001b[39m(check_dup_list)\n\u001b[0;32m     12\u001b[0m \u001b[39mfor\u001b[39;00m src \u001b[39min\u001b[39;00m random\u001b[39m.\u001b[39msample(paths, \u001b[39m50\u001b[39m):\n",
      "File \u001b[1;32mc:\\Users\\Hanna\\anaconda3\\envs\\python310\\lib\\ntpath.py:242\u001b[0m, in \u001b[0;36mbasename\u001b[1;34m(p)\u001b[0m\n\u001b[0;32m    240\u001b[0m \u001b[39mdef\u001b[39;00m \u001b[39mbasename\u001b[39m(p):\n\u001b[0;32m    241\u001b[0m \u001b[39m    \u001b[39m\u001b[39m\"\"\"Returns the final component of a pathname\"\"\"\u001b[39;00m\n\u001b[1;32m--> 242\u001b[0m     \u001b[39mreturn\u001b[39;00m split(p)[\u001b[39m1\u001b[39m]\n",
      "File \u001b[1;32mc:\\Users\\Hanna\\anaconda3\\envs\\python310\\lib\\ntpath.py:211\u001b[0m, in \u001b[0;36msplit\u001b[1;34m(p)\u001b[0m\n\u001b[0;32m    206\u001b[0m \u001b[39mdef\u001b[39;00m \u001b[39msplit\u001b[39m(p):\n\u001b[0;32m    207\u001b[0m \u001b[39m    \u001b[39m\u001b[39m\"\"\"Split a pathname.\u001b[39;00m\n\u001b[0;32m    208\u001b[0m \n\u001b[0;32m    209\u001b[0m \u001b[39m    Return tuple (head, tail) where tail is everything after the final slash.\u001b[39;00m\n\u001b[0;32m    210\u001b[0m \u001b[39m    Either part may be empty.\"\"\"\u001b[39;00m\n\u001b[1;32m--> 211\u001b[0m     p \u001b[39m=\u001b[39m os\u001b[39m.\u001b[39;49mfspath(p)\n\u001b[0;32m    212\u001b[0m     seps \u001b[39m=\u001b[39m _get_bothseps(p)\n\u001b[0;32m    213\u001b[0m     d, p \u001b[39m=\u001b[39m splitdrive(p)\n",
      "\u001b[1;31mTypeError\u001b[0m: expected str, bytes or os.PathLike object, not generator"
     ]
    }
   ],
   "source": [
    "from pathlib import Path\n",
    "import os\n",
    "import random\n",
    "import shutil\n",
    "\n",
    "im_dir = \"Images/\"  # whereever you want to get files from\n",
    "dst_dir = \"ImagesSubSetD/\"  # destination folder\n",
    "paths = list(Path(im_dir).glob('**/*.jpg'))\n",
    "check_dup_list = list(Path(\"ImagesSubSetC/\").glob('**/*.jpg'))\n",
    "print(check_dup_list)\n",
    "\n",
    "for src in random.sample(paths, 50):\n",
    "    if src in check_dup_list:\n",
    "        pass\n",
    "    # f1.relative_to(f2) gets relative path from the f2 to f1\n",
    "    f = str(src.relative_to(im_dir))\n",
    "    #dst = dst_dir + f\n",
    "\n",
    "    # checks if location exists else it makes a new one\n",
    "    #os.makedirs(os.path.dirname(dst), exist_ok=True)\n",
    "    #shutil.copy(src, dst)  # copy the file from src to dst\n"
   ]
  }
 ],
 "metadata": {
  "kernelspec": {
   "display_name": "python310",
   "language": "python",
   "name": "python3"
  },
  "language_info": {
   "codemirror_mode": {
    "name": "ipython",
    "version": 3
   },
   "file_extension": ".py",
   "mimetype": "text/x-python",
   "name": "python",
   "nbconvert_exporter": "python",
   "pygments_lexer": "ipython3",
   "version": "3.10.9"
  },
  "orig_nbformat": 4
 },
 "nbformat": 4,
 "nbformat_minor": 2
}

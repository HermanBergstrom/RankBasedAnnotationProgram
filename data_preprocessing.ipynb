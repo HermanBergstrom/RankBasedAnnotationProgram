{
 "cells": [
  {
   "cell_type": "code",
   "execution_count": 4,
   "metadata": {},
   "outputs": [],
   "source": [
    "import getpass\n",
    "import nibabel as nib\n",
    "import matplotlib.pyplot as plt\n",
    "from pathlib import Path\n",
    "import numpy as np\n",
    "import os"
   ]
  },
  {
   "cell_type": "code",
   "execution_count": 5,
   "metadata": {},
   "outputs": [],
   "source": [
    "user = getpass.getuser()\n",
    "\n",
    "nifti_dir = \"/home/ORUNET/\" + user + \"/2303_Chalmers/Data/BWT/Nifti\"\n",
    "nifti_paths = list(Path(nifti_dir).glob('**/*.nii'))\n",
    "\n",
    "seg_dir = \"/home/ORUNET/\" + user + \"/2303_Chalmers/Data/BWT/Segmentations\"\n",
    "mask_r_paths = list(Path(seg_dir).glob('**/mask_R.nii.gz'))\n",
    "mask_l_paths = list(Path(seg_dir).glob('**/mask_L.nii.gz'))\n",
    "\n",
    "dst_dir = \"/home/ORUNET/\" + user + \"/2303_Chalmers/Data/BWT/Preprocessed\""
   ]
  },
  {
   "cell_type": "code",
   "execution_count": 7,
   "metadata": {},
   "outputs": [],
   "source": [
    "def main():\n",
    "    for nifti_path, mask_r_path, mask_l_path in zip(nifti_paths, mask_r_paths, mask_l_paths):\n",
    "        nft = nib.load(nifti_path)\n",
    "        nft_affine = nft.affine\n",
    "        nft_imgs = nft.get_fdata()\n",
    "\n",
    "        mask_r = nib.load(mask_r_path).get_fdata()\n",
    "        mask_l = nib.load(mask_l_path).get_fdata()\n",
    "        \n",
    "        save_nib_file(dst_dir + '/hello.nii', nft_imgs, nft_affine)\n",
    "        \n",
    "\n",
    "def save_nib_file(dst, nft, nft_affine):\n",
    "    nft_2_save = nib.Nifti1Image(nft, nft_affine)\n",
    "    path = dst #make magic here pls <3\n",
    "    os.makedirs(os.path.dirname(path), exist_ok=True)\n",
    "    nib.save(nft_2_save, path)\n",
    "\n",
    "#main()"
   ]
  },
  {
   "cell_type": "code",
   "execution_count": null,
   "metadata": {},
   "outputs": [],
   "source": [
    "mask = nib.load(seg_dir + \"/1001_bwt/mask_R.nii.gz\").get_fdata()"
   ]
  },
  {
   "cell_type": "code",
   "execution_count": null,
   "metadata": {},
   "outputs": [],
   "source": [
    "start_z = 0\n",
    "\n",
    "for z in range(mask.shape[2]):\n",
    "    if mask[:,:,z].any():\n",
    "        start_z = z\n",
    "        break\n",
    "\n",
    "stop_z = mask.shape[2]\n",
    "\n",
    "for z in reversed(range(mask.shape[2])):\n",
    "    if mask[:,:,z].any():\n",
    "        stop_z = z\n",
    "        break\n",
    "\n",
    "print(\"start:\", start_z, \"stop:\", stop_z)\n",
    "\n",
    "start_x = 0\n",
    "\n",
    "for x in range(mask.shape[0]):\n",
    "    if mask[x,:,:].any():\n",
    "        start_x = x\n",
    "        break\n",
    "\n",
    "stop_x = mask.shape[0]\n",
    "\n",
    "for x in reversed(range(mask.shape[0])):\n",
    "    if mask[x,:,:].any():\n",
    "        stop_x = x\n",
    "        break\n",
    "\n",
    "print(\"start:\", start_x, \"stop:\", stop_x)\n",
    "\n",
    "\n"
   ]
  },
  {
   "cell_type": "code",
   "execution_count": null,
   "metadata": {},
   "outputs": [],
   "source": [
    "nib_file = nib.load(nifti_paths[0])\n",
    "img_affine = nib_file.affine\n",
    "nib_imgs = nib_file.get_fdata()"
   ]
  },
  {
   "cell_type": "code",
   "execution_count": null,
   "metadata": {},
   "outputs": [],
   "source": [
    "nib_imgs = nib_imgs[start_x:stop_x,50:-50, 200:201] \n",
    "\n",
    "low_cv, high_cv = -1024, 250\n",
    "\n",
    "for i, im in enumerate(nib_imgs):\n",
    "    if any(any(c > high_cv or c < low_cv for c in r) for r in im):\n",
    "        nib_imgs[i] = [[max(min(c, high_cv), low_cv) for c in r] for r in im]"
   ]
  },
  {
   "cell_type": "code",
   "execution_count": null,
   "metadata": {},
   "outputs": [],
   "source": [
    "for i in range(0, nib_imgs.shape[2], 17):\n",
    "    img = np.rot90(nib_imgs[:, :, i])\n",
    "plt.imshow(img, cmap=cm.gray)\n",
    "nft_img = nib.Nifti1Image(nib_imgs, img_affine)\n",
    "p = dst_dir + '/hello.nii'\n",
    "os.makedirs(os.path.dirname(p), exist_ok=True)\n",
    "nib.save(nft_img, p)"
   ]
  }
 ],
 "metadata": {
  "kernelspec": {
   "display_name": "python310",
   "language": "python",
   "name": "python3"
  },
  "language_info": {
   "codemirror_mode": {
    "name": "ipython",
    "version": 3
   },
   "file_extension": ".py",
   "mimetype": "text/x-python",
   "name": "python",
   "nbconvert_exporter": "python",
   "pygments_lexer": "ipython3",
   "version": "3.8.10"
  },
  "orig_nbformat": 4,
  "vscode": {
   "interpreter": {
    "hash": "e1c60c88d650c86188faa889228e4111a30a81e4be0a23b0a8fd6f761964a5ce"
   }
  }
 },
 "nbformat": 4,
 "nbformat_minor": 2
}

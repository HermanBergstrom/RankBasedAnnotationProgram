{
 "cells": [
  {
   "cell_type": "code",
   "execution_count": 21,
   "metadata": {},
   "outputs": [],
   "source": [
    "import getpass\n",
    "from pathlib import Path\n",
    "import pandas as pd\n",
    "import ast"
   ]
  },
  {
   "cell_type": "code",
   "execution_count": 22,
   "metadata": {},
   "outputs": [],
   "source": [
    "user = getpass.getuser()\n",
    "\n",
    "src = \"/home/ORUNET/\" + user + \"/2303_Chalmers/Data/BWT_Annotation_Summer2023/Completed\"\n",
    "\n",
    "\n",
    "csv_paths = list(Path(src).glob('*.csv'))\n",
    "pickle_paths = list(Path(src).glob('*.pickle'))"
   ]
  },
  {
   "cell_type": "code",
   "execution_count": 23,
   "metadata": {},
   "outputs": [],
   "source": [
    "for path in csv_paths:\n",
    "\n",
    "    output_path = str(path)[:-4] + \"_adjusted.csv\"\n",
    "\n",
    "    df = pd.read_csv(path, converters={\"result\": ast.literal_eval})\n",
    "\n",
    "    ratings_df = df[(df[\"type\"] == \"Rating\")]\n",
    "\n",
    "    for index, row in ratings_df.iterrows():\n",
    "        img, val = row['result']\n",
    "        df.at[index, 'result'] = (img, val + 1)\n",
    "    \n",
    "    df.to_csv(output_path, index=False)\n",
    "\n"
   ]
  }
 ],
 "metadata": {
  "kernelspec": {
   "display_name": "Python 3",
   "language": "python",
   "name": "python3"
  },
  "language_info": {
   "codemirror_mode": {
    "name": "ipython",
    "version": 3
   },
   "file_extension": ".py",
   "mimetype": "text/x-python",
   "name": "python",
   "nbconvert_exporter": "python",
   "pygments_lexer": "ipython3",
   "version": "3.8.10"
  },
  "orig_nbformat": 4
 },
 "nbformat": 4,
 "nbformat_minor": 2
}

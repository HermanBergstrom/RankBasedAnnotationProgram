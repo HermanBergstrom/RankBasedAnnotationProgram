{
 "cells": [
  {
   "cell_type": "code",
   "execution_count": 36,
   "metadata": {},
   "outputs": [],
   "source": [
    "import getpass\n",
    "import nibabel as nib\n",
    "from pathlib import Path\n",
    "import os\n",
    "import pandas as pd\n",
    "from tqdm import tqdm\n",
    "import numpy as np\n",
    "import random\n",
    "import matplotlib.pyplot as plt\n",
    "import matplotlib.patches as mpatches\n",
    "import ast\n",
    "import src.sorting_algorithms as sa\n",
    "\n",
    "from collections import Counter\n",
    "import scipy.stats as stats\n",
    "import itertools\n",
    "import krippendorff\n"
   ]
  },
  {
   "cell_type": "code",
   "execution_count": 37,
   "metadata": {},
   "outputs": [],
   "source": [
    "user = getpass.getuser()\n",
    "\n",
    "src = \"/home/ORUNET/\" + user + \"/2303_Chalmers/Data/BWT_Annotation_Summer2023/Completed\"\n",
    "\n",
    "csv_paths = list(Path(src).glob('*.csv'))"
   ]
  },
  {
   "cell_type": "code",
   "execution_count": 38,
   "metadata": {},
   "outputs": [],
   "source": [
    "rating_resultsdict = {}\n",
    "\n",
    "for path in csv_paths:\n",
    "    df = pd.read_csv(path, converters={\"result\": ast.literal_eval})\n",
    "\n",
    "    ratings_df = df[(df[\"type\"] == \"Rating\") & (df[\"undone\"] == False)]\n",
    "\n",
    "    for res in ratings_df[\"result\"]:\n",
    "        \n",
    "        subject_id = res[0][:4]\n",
    "\n",
    "        if subject_id in rating_resultsdict:\n",
    "            rating_resultsdict[subject_id].append(res)\n",
    "        else:\n",
    "            rating_resultsdict[subject_id] = [res]"
   ]
  },
  {
   "cell_type": "code",
   "execution_count": 39,
   "metadata": {},
   "outputs": [],
   "source": [
    "#set indicator results to median\n",
    "for res in rating_resultsdict:\n",
    "    unique_ids = list(set([res[0] for res in rating_resultsdict[res]]))\n",
    "\n",
    "    for id in unique_ids:\n",
    "        filtered = list(filter(lambda value: value[0] == id, rating_resultsdict[res]))\n",
    "        if len(filtered) > 1:\n",
    "            median_value = int(np.median([value[1] for value in filtered]))\n",
    "\n",
    "            new_list = list(filter(lambda value: value[0] != id, rating_resultsdict[res]))\n",
    "            new_list.append((id, median_value))\n",
    "            rating_resultsdict[res] = new_list\n",
    "\n",
    "for v in rating_resultsdict.values():\n",
    "    v.sort(key=lambda x: x[0])"
   ]
  },
  {
   "cell_type": "code",
   "execution_count": 40,
   "metadata": {},
   "outputs": [],
   "source": [
    "original_file_path = \"/home/ORUNET/\" + user + \"/2303_Chalmers/Data/BWT/Nifti/\"\n",
    "included_files_path = \"/home/ORUNET/\" + user + \"/2303_Chalmers/Data/BWT_Annotation_Summer2023/all_nifti\"\n",
    "segmentation_path = \"/home/ORUNET/\" + user + \"/2303_Chalmers/Data/BWT/Segmentations/\"\n",
    "\n",
    "def grid_from_results(resultsdict):\n",
    "\n",
    "    #Max slices in any lung is 64. 77 * 2 = 154.\n",
    "    grid = np.full((64,154), 0)\n",
    "\n",
    "    for subject_id in tqdm(resultsdict.keys()):\n",
    "        left_lung = Path(included_files_path).glob(subject_id + \"*L*.nii\")\n",
    "        left_names = [os.path.basename(path) for path in left_lung]\n",
    "        left_names.sort()\n",
    "        index_in_grid = (int(subject_id[2:]) - 1) * 2\n",
    "        for result in resultsdict[subject_id]:\n",
    "\n",
    "            if \"_R_\" in result[0]:\n",
    "                continue\n",
    "\n",
    "            grid[left_names.index(result[0]), index_in_grid] = result[1]\n",
    "\n",
    "        right_lung = Path(included_files_path).glob(subject_id + \"*R*.nii\")\n",
    "        right_names = [os.path.basename(path) for path in right_lung]\n",
    "        right_names.sort()\n",
    "        index_in_grid = (int(subject_id[2:]) - 1) * 2 + 1\n",
    "        for result in resultsdict[subject_id]:\n",
    "\n",
    "            if \"_L_\" in result[0]:\n",
    "                continue\n",
    "\n",
    "            grid[right_names.index(result[0]), index_in_grid] = result[1]\n",
    "\n",
    "    return grid"
   ]
  },
  {
   "cell_type": "code",
   "execution_count": 41,
   "metadata": {},
   "outputs": [
    {
     "name": "stderr",
     "output_type": "stream",
     "text": [
      "100%|██████████| 77/77 [00:19<00:00,  3.92it/s]\n"
     ]
    }
   ],
   "source": [
    "rating_grid = grid_from_results(rating_resultsdict)"
   ]
  },
  {
   "cell_type": "code",
   "execution_count": 42,
   "metadata": {},
   "outputs": [
    {
     "data": {
      "image/png": "[encoded data removed]",
      "text/plain": [
       "<Figure size 640x480 with 1 Axes>"
      ]
     },
     "metadata": {},
     "output_type": "display_data"
    }
   ],
   "source": [
    "#cmap = colors.ListedColormap([\"white\", \"yellow\", \"black\", \"blue\", \"red\"])\n",
    "\n",
    "values = np.unique(rating_grid.ravel())\n",
    "\n",
    "im = plt.imshow(rating_grid, origin=\"lower\", aspect=\"auto\")#, cmap=cmap)\n",
    "\n",
    "colors = [ im.cmap(im.norm(value)) for value in values]\n",
    "\n",
    "patches = [ mpatches.Patch(color=colors[i], label=\"Value {l}\".format(l=values[i]) ) for i in range(len(values)) ]\n",
    "\n",
    "plt.legend(handles=patches, bbox_to_anchor=(1.05, 1), loc=2, borderaxespad=0. )\n",
    "\n",
    "plt.show()\n"
   ]
  },
  {
   "cell_type": "code",
   "execution_count": 43,
   "metadata": {},
   "outputs": [],
   "source": [
    "comparisons = []\n",
    "\n",
    "data = []\n",
    "\n",
    "for path in csv_paths:\n",
    "    \n",
    "    df = pd.read_csv(path, converters={\"result\": ast.literal_eval})\n",
    "    ranking_df = df[(df[\"type\"] == \"Ranking\") & (df[\"undone\"] == False)]\n",
    "\n",
    "    for index, row in ranking_df.iterrows():\n",
    "\n",
    "        diff_lvls = [sa.DiffLevel(abs([int(s) for s in dl if s.isdigit()][0])) for dl in row['diff_levels'].split(\", \")]\n",
    "        \n",
    "        comparisons.append((row[\"result\"], diff_lvls))\n",
    "\n",
    "        data = data + row[\"result\"]\n",
    "\n",
    "data = list(set(data))\n",
    "\n",
    "r = random.Random(1)\n",
    "\n",
    "r.shuffle(comparisons)\n",
    "r.shuffle(data)"
   ]
  },
  {
   "cell_type": "code",
   "execution_count": 44,
   "metadata": {},
   "outputs": [],
   "source": [
    "def rating_to_mu(rating):\n",
    "    # With mu = 25 and 1/2 standard deviation spacing\n",
    "    return 25 + ((rating - 1) * 2 + 1) / 4 * 8.333"
   ]
  },
  {
   "cell_type": "code",
   "execution_count": 45,
   "metadata": {},
   "outputs": [],
   "source": [
    "mu_dict = {}\n",
    "flat_result_list = [item for sublist in rating_resultsdict.values() for item in sublist if item[1] >= 0]\n",
    "\n",
    "for item in flat_result_list:\n",
    "    \n",
    "    mu_dict[item[0]] = rating_to_mu(item[1])"
   ]
  },
  {
   "cell_type": "code",
   "execution_count": 46,
   "metadata": {},
   "outputs": [
    {
     "name": "stderr",
     "output_type": "stream",
     "text": [
      "100%|██████████| 1040/1040 [00:02<00:00, 462.02it/s]\n"
     ]
    }
   ],
   "source": [
    "sort_alg = sa.TrueSkill(data,initial_mus=mu_dict)\n",
    "\n",
    "#Add hybrid initial mus\n",
    "for comparison in tqdm(comparisons):\n",
    "    sort_alg.inference(random.randint(1,9), comparison[0], comparison[1])"
   ]
  },
  {
   "cell_type": "code",
   "execution_count": 47,
   "metadata": {},
   "outputs": [],
   "source": [
    "results = sort_alg.get_result()"
   ]
  },
  {
   "cell_type": "code",
   "execution_count": 48,
   "metadata": {},
   "outputs": [],
   "source": [
    "ranking_results = [(item, index) for index, item in enumerate(results)]"
   ]
  },
  {
   "cell_type": "code",
   "execution_count": 49,
   "metadata": {},
   "outputs": [],
   "source": [
    "def results_to_dict(results):\n",
    "\n",
    "    resultsdict = {}\n",
    "\n",
    "    for res in results:\n",
    "        subject_id = res[0][:4]\n",
    "\n",
    "        if subject_id in resultsdict:\n",
    "            resultsdict[subject_id].append(res)\n",
    "        else:\n",
    "            resultsdict[subject_id] = [res]\n",
    "\n",
    "    for v in resultsdict.values():\n",
    "        v.sort(key=lambda x: x[0])\n",
    "\n",
    "    return resultsdict"
   ]
  },
  {
   "cell_type": "code",
   "execution_count": 50,
   "metadata": {},
   "outputs": [],
   "source": [
    "ranking_resultsdict = results_to_dict(ranking_results)"
   ]
  },
  {
   "cell_type": "code",
   "execution_count": 51,
   "metadata": {},
   "outputs": [
    {
     "name": "stderr",
     "output_type": "stream",
     "text": [
      "100%|██████████| 73/73 [00:17<00:00,  4.24it/s]\n"
     ]
    },
    {
     "data": {
      "image/png": "[encoded data removed]",
      "text/plain": [
       "<Figure size 640x480 with 1 Axes>"
      ]
     },
     "metadata": {},
     "output_type": "display_data"
    }
   ],
   "source": [
    "ranking_grid = grid_from_results(ranking_resultsdict)\n",
    "plt.imshow(ranking_grid, origin=\"lower\", aspect=\"auto\")\n",
    "plt.show()"
   ]
  },
  {
   "cell_type": "code",
   "execution_count": 52,
   "metadata": {},
   "outputs": [],
   "source": [
    "def get_distr_from_ratings(flat_ratings):\n",
    "    filtered = list(filter(lambda value: value > 0, flat_ratings))\n",
    "    c = Counter(filtered)\n",
    "    return [c[i]/len(filtered) for i in range(1,4)]"
   ]
  },
  {
   "cell_type": "code",
   "execution_count": 53,
   "metadata": {},
   "outputs": [],
   "source": [
    "flat_ratings = [res[1] for res in flat_result_list]\n",
    "distr = get_distr_from_ratings(flat_ratings)\n",
    "indexes = [int(np.round(distr[i]*len(results))) for i in range(len(distr))]"
   ]
  },
  {
   "cell_type": "code",
   "execution_count": 54,
   "metadata": {},
   "outputs": [
    {
     "name": "stderr",
     "output_type": "stream",
     "text": [
      "100%|██████████| 73/73 [00:17<00:00,  4.21it/s]\n"
     ]
    }
   ],
   "source": [
    "all_ratings = [i + 1 for i in range(len(distr)) for _ in range(indexes[i])]\n",
    "distributed_ratings = list(zip(results, all_ratings))\n",
    "\n",
    "dist_rating_resultsdict = results_to_dict(distributed_ratings)\n",
    "dist_rating_grid = grid_from_results(dist_rating_resultsdict)"
   ]
  },
  {
   "cell_type": "code",
   "execution_count": 55,
   "metadata": {},
   "outputs": [
    {
     "data": {
      "image/png": "[encoded data removed]",
      "text/plain": [
       "<Figure size 640x480 with 1 Axes>"
      ]
     },
     "metadata": {},
     "output_type": "display_data"
    }
   ],
   "source": [
    "plt.imshow(dist_rating_grid, origin=\"lower\", aspect=\"auto\")\n",
    "plt.show()"
   ]
  },
  {
   "cell_type": "code",
   "execution_count": 56,
   "metadata": {},
   "outputs": [
    {
     "name": "stdout",
     "output_type": "stream",
     "text": [
      "Neighbouring slices present: 14\n",
      "[169, 1156, 3481, 9, 9025, 625, 841, 169, 4, 25, 11025, 841, 17424, 100]\n",
      "3206.714285714286\n",
      "Neighbouring slices present: 14\n",
      "[0, 0, 1, 0, 0, 0, 0, 1, 1, 0, 0, 1, 0, 0]\n",
      "0.2857142857142857\n",
      "Neighbouring slices present: 14\n",
      "[1, 0, 1, 0, 1, 0, 0, 1, 1, 0, 0, 0, 1, 0]\n",
      "0.42857142857142855\n"
     ]
    }
   ],
   "source": [
    "def mean_squared_neighbour_difference(grid):\n",
    "    \n",
    "    squared_differences = []\n",
    "\n",
    "    for col in range(grid.shape[1]):\n",
    "        for row in range(grid.shape[0] - 1):\n",
    "            #Both slices of the adjacent slices has received values\n",
    "            if grid[row,col] > 0 and grid[row + 1,col] > 0:\n",
    "                squared_differences.append((grid[row,col] - grid[row + 1,col])**2)\n",
    "\n",
    "    print(\"Neighbouring slices present:\", len(squared_differences))\n",
    "    print(squared_differences)\n",
    "    return np.mean(squared_differences)\n",
    "\n",
    "\n",
    "print(mean_squared_neighbour_difference(ranking_grid))\n",
    "print(mean_squared_neighbour_difference(rating_grid))\n",
    "print(mean_squared_neighbour_difference(dist_rating_grid))"
   ]
  },
  {
   "cell_type": "code",
   "execution_count": 57,
   "metadata": {},
   "outputs": [
    {
     "name": "stdout",
     "output_type": "stream",
     "text": [
      "Counter({0: 9626, 1: 131, 2: 92, 3: 7})\n",
      "Counter({0: 9626, 1: 131, 2: 92, 3: 7})\n"
     ]
    }
   ],
   "source": [
    "c_rating = Counter(rating_grid.flat)\n",
    "c_dist_rating = Counter(dist_rating_grid.flat)\n",
    "print(c_rating)\n",
    "print(c_dist_rating)"
   ]
  },
  {
   "cell_type": "code",
   "execution_count": 58,
   "metadata": {},
   "outputs": [],
   "source": [
    "def get_non_neighbour_differences(grid):\n",
    "\n",
    "    indexes = []\n",
    "\n",
    "    for i in range(grid.shape[0]):\n",
    "        for j in range(grid.shape[1]):\n",
    "            if rating_grid[i,j] > 0:\n",
    "                indexes.append((i, j))\n",
    "\n",
    "    index_combinations = list(itertools.combinations(indexes, 2))\n",
    "\n",
    "    differences = []\n",
    "\n",
    "    for combination in index_combinations:\n",
    "        i1 = combination[0]\n",
    "        i2 = combination[1]\n",
    "\n",
    "        if i1[1] == i2[1] and abs(i1[0] - i2[0]) <= 1:\n",
    "            continue\n",
    "\n",
    "        differences.append(abs(grid[i1] - grid[i2]))\n",
    "    return differences"
   ]
  },
  {
   "cell_type": "code",
   "execution_count": 59,
   "metadata": {},
   "outputs": [],
   "source": [
    "def get_neighbour_differences(grid):\n",
    "    \n",
    "    differences = []\n",
    "\n",
    "    for col in range(grid.shape[1]):\n",
    "        for row in range(grid.shape[0] - 1):\n",
    "            #Both slices of the adjacent slices has received values\n",
    "            if grid[row,col] > 0 and grid[row + 1,col] > 0:\n",
    "                differences.append(abs(grid[row,col] - grid[row + 1,col]))\n",
    "\n",
    "    return differences"
   ]
  },
  {
   "cell_type": "code",
   "execution_count": 60,
   "metadata": {},
   "outputs": [],
   "source": [
    "def get_neighbour_annotations(grid):\n",
    "    \n",
    "    differences = [[], []]\n",
    "\n",
    "    for col in range(grid.shape[1]):\n",
    "        for row in range(grid.shape[0] - 1):\n",
    "            #Both slices of the adjacent slices has received values\n",
    "            if grid[row,col] > 0 and grid[row + 1,col] > 0:\n",
    "                differences[0].append(grid[row,col])\n",
    "                differences[1].append(grid[row + 1,col])\n",
    "                #differences.append(abs(grid[row,col] - grid[row + 1,col]))\n",
    "\n",
    "    return differences"
   ]
  },
  {
   "cell_type": "code",
   "execution_count": 61,
   "metadata": {},
   "outputs": [],
   "source": [
    "def calculate_pointbiserial(grid):\n",
    "\n",
    "    non_diff = get_non_neighbour_differences(grid)\n",
    "    diff = get_neighbour_differences(grid)\n",
    "\n",
    "    x = non_diff + diff\n",
    "    y = [0] * len(non_diff) + [1] * len(diff)\n",
    "\n",
    "    return stats.pointbiserialr(x,y)"
   ]
  },
  {
   "cell_type": "code",
   "execution_count": 62,
   "metadata": {},
   "outputs": [
    {
     "name": "stdout",
     "output_type": "stream",
     "text": [
      "Rating: SignificanceResult(statistic=-0.010897494696174672, pvalue=0.07699058674325261)\n",
      "Ranking: SignificanceResult(statistic=-0.015958016716016758, pvalue=0.009605435145487552)\n",
      "Distributed Ratings: SignificanceResult(statistic=-0.005045424491774998, pvalue=0.4129342180919569)\n"
     ]
    }
   ],
   "source": [
    "# -1 is best\n",
    "# Only have 14 neighbouring slices as of now, interesting to see how these numbers change as the sample size increases...\n",
    "print(\"Rating:\", calculate_pointbiserial(rating_grid))\n",
    "print(\"Ranking:\", calculate_pointbiserial(ranking_grid))\n",
    "print(\"Distributed Ratings:\", calculate_pointbiserial(dist_rating_grid))"
   ]
  },
  {
   "cell_type": "code",
   "execution_count": 64,
   "metadata": {},
   "outputs": [
    {
     "name": "stdout",
     "output_type": "stream",
     "text": [
      "[[2, 2, 2, 1, 1, 1, 1, 3, 1, 2, 1, 2, 1, 2], [2, 2, 1, 1, 1, 1, 1, 2, 2, 2, 1, 1, 1, 2]]\n",
      "[[213, 148, 136, 79, 47, 93, 60, 224, 130, 200, 23, 70, 153, 202], [226, 182, 77, 82, 142, 68, 31, 211, 132, 205, 128, 41, 21, 212]]\n",
      "0.595467032967033\n",
      "0.6199859254046446\n",
      "0.4873920722135009\n"
     ]
    }
   ],
   "source": [
    "rating_annotations = get_neighbour_annotations(rating_grid)\n",
    "ranking_annotations = get_neighbour_annotations(ranking_grid)\n",
    "dist_rating_annotations = get_neighbour_annotations(dist_rating_grid)\n",
    "\n",
    "\n",
    "#Right now, the alpha is very misleading as the full range of values is not known...\n",
    "\n",
    "#This exemplifies the issue.\n",
    "sanity_check = [[220, 219, 219, 219, 220, 220, 220],[219, 220, 220, 220, 219, 219, 219]]\n",
    "\n",
    "#There is a value_domain parameter, but unclear how it works.\n",
    "\n",
    "print(rating_annotations)\n",
    "print(ranking_annotations)\n",
    "print(krippendorff.alpha(rating_annotations, level_of_measurement=\"ordinal\"))\n",
    "print(krippendorff.alpha(ranking_annotations, level_of_measurement=\"ordinal\"))\n",
    "print(krippendorff.alpha(dist_rating_annotations, level_of_measurement=\"ordinal\"))"
   ]
  }
 ],
 "metadata": {
  "kernelspec": {
   "display_name": "Python 3",
   "language": "python",
   "name": "python3"
  },
  "language_info": {
   "codemirror_mode": {
    "name": "ipython",
    "version": 3
   },
   "file_extension": ".py",
   "mimetype": "text/x-python",
   "name": "python",
   "nbconvert_exporter": "python",
   "pygments_lexer": "ipython3",
   "version": "3.8.10"
  },
  "orig_nbformat": 4
 },
 "nbformat": 4,
 "nbformat_minor": 2
}

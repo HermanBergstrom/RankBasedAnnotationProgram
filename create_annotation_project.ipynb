{
 "cells": [
  {
   "cell_type": "code",
   "execution_count": 71,
   "metadata": {},
   "outputs": [],
   "source": [
    "import getpass\n",
    "from pathlib import Path\n",
    "import os\n",
    "import pandas as pd\n",
    "from tqdm import tqdm\n",
    "import random\n",
    "from sorting_algorithms import *\n",
    "import time\n",
    "import pickle\n",
    "import shutil"
   ]
  },
  {
   "cell_type": "code",
   "execution_count": 72,
   "metadata": {},
   "outputs": [],
   "source": [
    "user = getpass.getuser()\n",
    "\n",
    "src = \"/home/ORUNET/\" + user + \"/2303_Chalmers/Data/BWT/FullPreprocessed/\"\n",
    "nifti_paths = list(Path(src).glob('*.nii'))\n",
    "keys = [os.path.basename(path) for path in nifti_paths]\n",
    "r = random.Random(1)\n",
    "r.shuffle(keys)"
   ]
  },
  {
   "cell_type": "code",
   "execution_count": 73,
   "metadata": {},
   "outputs": [],
   "source": [
    "sublists = []\n",
    "sublist_size = 100\n",
    "\n",
    "for i in range(0, len(keys), sublist_size):\n",
    "    sublists.append(keys[i : i+sublist_size])"
   ]
  },
  {
   "cell_type": "code",
   "execution_count": 74,
   "metadata": {},
   "outputs": [],
   "source": [
    "def create_save(sort_alg, dst, final_name):\n",
    "    \n",
    "    file_name = str(int(time.time()))\n",
    "\n",
    "    df = pd.DataFrame(\n",
    "        columns=['result', 'diff_levels', 'time', 'session', 'user', 'undone', 'type'])\n",
    "\n",
    "    df.to_csv(dst + \"/\" + file_name + \".csv\", index=False)\n",
    "\n",
    "    rel_path_to_save = \"Saves/\" + file_name\n",
    "    save_obj = {\"sort_alg\": sort_alg, \"name\": final_name,\n",
    "                \"image_directory\": \"\", \"path_to_save\": rel_path_to_save,\n",
    "                \"user_directory_dict\": {} , \"scroll_allowed\": False}\n",
    "\n",
    "    f = open(dst + \"/\" + file_name + \".pickle\", \"wb\")\n",
    "    pickle.dump(save_obj, f)\n",
    "    f.close()\n",
    "\n",
    "def create_image_folder(sublist, src_dir, dst_dir):\n",
    "    \n",
    "    os.makedirs(dst_dir + \"/nifti\", exist_ok=True)\n",
    "\n",
    "    for img in sublist:\n",
    "        src = src_dir + \"/\" + img\n",
    "        dst = dst_dir + \"/nifti/\" + img\n",
    "        shutil.copyfile(src, dst)\n",
    "\n"
   ]
  },
  {
   "cell_type": "code",
   "execution_count": 75,
   "metadata": {},
   "outputs": [
    {
     "name": "stderr",
     "output_type": "stream",
     "text": [
      "75it [14:45, 11.80s/it]\n"
     ]
    }
   ],
   "source": [
    "dst_dir = \"/home/ORUNET/\" + user + \"/2303_Chalmers/Data/BWT_Annotation_Summer2023\"\n",
    "\n",
    "for i, sublist in tqdm(enumerate(sublists)):\n",
    "    #Add inidicator elements\n",
    "    #sublist = sublist + ...\n",
    "\n",
    "    sublist_dir = f\"{dst_dir}/{i + 1}\"\n",
    "\n",
    "    os.makedirs(sublist_dir, exist_ok=True)\n",
    "\n",
    "    sort_alg = HybridTrueSkill(sublist)\n",
    "\n",
    "    create_save(sort_alg, sublist_dir, f\"BWT Annotation {i + 1}\")\n",
    "\n",
    "    create_image_folder(sublist, src, sublist_dir)\n",
    "\n",
    "    \n",
    "    \n",
    "    "
   ]
  }
 ],
 "metadata": {
  "kernelspec": {
   "display_name": "Python 3",
   "language": "python",
   "name": "python3"
  },
  "language_info": {
   "codemirror_mode": {
    "name": "ipython",
    "version": 3
   },
   "file_extension": ".py",
   "mimetype": "text/x-python",
   "name": "python",
   "nbconvert_exporter": "python",
   "pygments_lexer": "ipython3",
   "version": "3.8.10"
  },
  "orig_nbformat": 4
 },
 "nbformat": 4,
 "nbformat_minor": 2
}
